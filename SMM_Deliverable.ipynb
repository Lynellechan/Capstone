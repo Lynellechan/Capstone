{
 "cells": [
  {
   "cell_type": "markdown",
   "metadata": {},
   "source": [
    "<p align=\"center\">\n",
    "<img src=\"img/SMM_cover.jpg\" alt=\"Drawing\" width=\"1000\"/>\n",
    "</p>\n",
    "<center>Presented by Lynelle Chan</center>"
   ]
  },
  {
   "cell_type": "markdown",
   "metadata": {},
   "source": [
    "<h2><center><b><u>Directory</u></b></center></h2>\n",
    "<a id=\"Directory\"></a>"
   ]
  },
  {
   "cell_type": "markdown",
   "metadata": {},
   "source": [
    " 1. [Introduction](#Introduction)\n",
    " 2. <a href = \"#Data_import\">Start Here</a>\n",
    " 3. Datasheet Cleaning and Familiarization\n",
    "     * [Overall](#Overall)\n",
    "     * [Courses](#Courses)\n",
    "     * [Course_Meta](#Course_Meta)\n",
    "     * [Clears](#Clears)\n",
    "     * [Likes](#Likes)\n",
    "     * [Players](#Players)\n",
    "     * [Plays](#Plays)\n",
    "     * [Records](#Records)\n",
    " 4. <a href = \"#Data_analysis\">Data Analysis</a><BR>\n",
    "     * <a href=\"#Overallda\">Overall</a><BR> \n",
    "     * <a href=\"#Level_tagging\">Level Tagging</a><BR>\n",
    "     * <a href=\"#Level_difficulty\">Level of Difficulty</a><BR>\n",
    "     * <a href=\"#Playersda\">Players Analysis</a><BR>\n",
    "     * <a href=\"#PPP\">Players Playing Profile</a><BR>\n",
    " 5. Sources\n",
    "     * [Data](#Data)\n",
    "     * [Images](#Images)\n",
    "     * [Additional Sources](#Additional)\n",
    " 6. Appendix\n",
    "     * <a href = \"#ERD\">ERD</a>\n",
    "     * <a href = \"#Project_Plan\">Project Plan</a>"
   ]
  },
  {
   "cell_type": "markdown",
   "metadata": {},
   "source": [
    "<p align=\"center\">\n",
    "<img src=\"img/Super-mario-maker-2-nintendo-working-on-allowing-friends.jpg\" width=1000>\n",
    "</p>"
   ]
  },
  {
   "cell_type": "markdown",
   "metadata": {},
   "source": [
    "<h3><center>Introduction</center></h3>"
   ]
  },
  {
   "cell_type": "markdown",
   "metadata": {},
   "source": [
    "<i>The announcement of the discontinuation of Super Mario games and online services in March 2021, took many Super Mario fans by surprise. While the focus will be on the upcoming Pokemon and Zelda anniversaries, Nintendo has begun the process of developing new products for their 40th Anniversary of the Super Mario franchise that they will introduce at the Electronic Entertainment Expo (also known as E3) in 2024. \n",
    "    The planning team has asked the assistance of the data analyst team to evaluate a variety of popular Mario games and I have been asked to review the data for the Super Mario Maker game. During my analysis, I hope to discover what made the original Super Mario Maker so popular and provide recommendations for future deployments of the game.</i>"
   ]
  },
  {
   "cell_type": "markdown",
   "metadata": {},
   "source": [
    "<br>"
   ]
  },
  {
   "cell_type": "markdown",
   "metadata": {},
   "source": [
    "<b><i>What is Super Mario Maker?</i></b>"
   ]
  },
  {
   "cell_type": "markdown",
   "metadata": {},
   "source": [
    "<i>Super Mario Maker is a 2D creation game that was originally released in 2015 on the Nintendo Wii U. This game allows players to design and share their own courses for others to play. The game incorporate courses from the styles of four previous Mario games (Super Mario Bros, Super Mario Bros 3, Super Mario World, and New Super Mario Bros. U).</i>"
   ]
  },
  {
   "cell_type": "markdown",
   "metadata": {},
   "source": [
    "<div style=\"text-align: right\"><a href = \"#Directory\">Directory</a></div>"
   ]
  },
  {
   "cell_type": "markdown",
   "metadata": {},
   "source": [
    "<p align=\"center\">\n",
    "<img src=\"img/SMM_luggage.jpg\" alt=\"Drawing\" width=\"1000\"/>\n",
    "</p>"
   ]
  },
  {
   "cell_type": "markdown",
   "metadata": {},
   "source": [
    "<h2><center><b><u>START HERE</u></b></center></h2><a id=\"Data_import\"></a>"
   ]
  },
  {
   "cell_type": "markdown",
   "metadata": {},
   "source": [
    "<center><B><I>Please run the following before reviewing code in the Data Analysis Section.</I></B></center>"
   ]
  },
  {
   "cell_type": "code",
   "execution_count": 1,
   "metadata": {},
   "outputs": [],
   "source": [
    "import pandas as pd\n",
    "import numpy as np\n",
    "import seaborn as sns\n",
    "import matplotlib.pyplot as plt"
   ]
  },
  {
   "cell_type": "code",
   "execution_count": 82,
   "metadata": {
    "scrolled": true
   },
   "outputs": [
    {
     "name": "stderr",
     "output_type": "stream",
     "text": [
      "C:\\Users\\GSUL User\\anaconda3\\lib\\site-packages\\IPython\\core\\interactiveshell.py:3146: DtypeWarning: Columns (1) have mixed types.Specify dtype option on import or set low_memory=False.\n",
      "  has_raised = await self.run_ast_nodes(code_ast.body, cell_name,\n"
     ]
    }
   ],
   "source": [
    "course_meta=pd.read_csv('12_27_20_cm1.csv')\n",
    "courses=pd.read_csv('12_27_20_courses.csv')\n",
    "clears=pd.read_csv('12_27_20_clears.csv')\n",
    "likes=pd.read_csv('12_21_20_likes.csv')\n",
    "plays=pd.read_csv('12_27_20_plays.csv')\n",
    "records=pd.read_csv('12_27_20_records.csv')\n",
    "players=pd.read_csv('12_27_20_players.csv')\n",
    "c_plays=pd.read_csv('12_26_20_c_plays.csv')\n",
    "cm_courses=pd.read_csv('12_27_20_cm_courses.csv')\n",
    "r_courses=pd.read_csv('12_29_20_r_courses.csv')\n",
    "r_c_courses=pd.read_csv('12_29_20_r_c_players.csv')\n",
    "c_players=pd.read_csv('12_29_20_c_players.csv')\n",
    "p_players=pd.read_csv('12_29_20_p_players.csv')\n",
    "r_c_players=pd.read_csv('12_29_20_r_c_players.csv')\n",
    "p_p_courses=pd.read_csv('12_30_20_p_p_courses.csv')"
   ]
  },
  {
   "cell_type": "code",
   "execution_count": 3,
   "metadata": {},
   "outputs": [
    {
     "data": {
      "text/plain": [
       "<sqlite3.Connection at 0x1b5da1488a0>"
      ]
     },
     "execution_count": 3,
     "metadata": {},
     "output_type": "execute_result"
    }
   ],
   "source": [
    "%matplotlib inline\n",
    "import sqlite3\n",
    "c_plays=pd.read_csv('12_26_20_c_plays.csv')\n",
    "sqlite3.connect('SMM.db')"
   ]
  },
  {
   "cell_type": "code",
   "execution_count": 4,
   "metadata": {},
   "outputs": [
    {
     "ename": "ValueError",
     "evalue": "Table 'c_plays' already exists.",
     "output_type": "error",
     "traceback": [
      "\u001b[1;31m---------------------------------------------------------------------------\u001b[0m",
      "\u001b[1;31mValueError\u001b[0m                                Traceback (most recent call last)",
      "\u001b[1;32m<ipython-input-4-528d38130373>\u001b[0m in \u001b[0;36m<module>\u001b[1;34m\u001b[0m\n\u001b[0;32m      4\u001b[0m \u001b[0mc\u001b[0m\u001b[1;33m=\u001b[0m\u001b[0mconn\u001b[0m\u001b[1;33m.\u001b[0m\u001b[0mcursor\u001b[0m\u001b[1;33m(\u001b[0m\u001b[1;33m)\u001b[0m\u001b[1;33m\u001b[0m\u001b[1;33m\u001b[0m\u001b[0m\n\u001b[0;32m      5\u001b[0m \u001b[1;33m\u001b[0m\u001b[0m\n\u001b[1;32m----> 6\u001b[1;33m \u001b[0mc_plays\u001b[0m\u001b[1;33m.\u001b[0m\u001b[0mto_sql\u001b[0m\u001b[1;33m(\u001b[0m\u001b[1;34m'c_plays'\u001b[0m\u001b[1;33m,\u001b[0m\u001b[0mconn\u001b[0m\u001b[1;33m)\u001b[0m\u001b[1;33m\u001b[0m\u001b[1;33m\u001b[0m\u001b[0m\n\u001b[0m",
      "\u001b[1;32m~\\anaconda3\\lib\\site-packages\\pandas\\core\\generic.py\u001b[0m in \u001b[0;36mto_sql\u001b[1;34m(self, name, con, schema, if_exists, index, index_label, chunksize, dtype, method)\u001b[0m\n\u001b[0;32m   2603\u001b[0m         \u001b[1;32mfrom\u001b[0m \u001b[0mpandas\u001b[0m\u001b[1;33m.\u001b[0m\u001b[0mio\u001b[0m \u001b[1;32mimport\u001b[0m \u001b[0msql\u001b[0m\u001b[1;33m\u001b[0m\u001b[1;33m\u001b[0m\u001b[0m\n\u001b[0;32m   2604\u001b[0m \u001b[1;33m\u001b[0m\u001b[0m\n\u001b[1;32m-> 2605\u001b[1;33m         sql.to_sql(\n\u001b[0m\u001b[0;32m   2606\u001b[0m             \u001b[0mself\u001b[0m\u001b[1;33m,\u001b[0m\u001b[1;33m\u001b[0m\u001b[1;33m\u001b[0m\u001b[0m\n\u001b[0;32m   2607\u001b[0m             \u001b[0mname\u001b[0m\u001b[1;33m,\u001b[0m\u001b[1;33m\u001b[0m\u001b[1;33m\u001b[0m\u001b[0m\n",
      "\u001b[1;32m~\\anaconda3\\lib\\site-packages\\pandas\\io\\sql.py\u001b[0m in \u001b[0;36mto_sql\u001b[1;34m(frame, name, con, schema, if_exists, index, index_label, chunksize, dtype, method)\u001b[0m\n\u001b[0;32m    587\u001b[0m         )\n\u001b[0;32m    588\u001b[0m \u001b[1;33m\u001b[0m\u001b[0m\n\u001b[1;32m--> 589\u001b[1;33m     pandas_sql.to_sql(\n\u001b[0m\u001b[0;32m    590\u001b[0m         \u001b[0mframe\u001b[0m\u001b[1;33m,\u001b[0m\u001b[1;33m\u001b[0m\u001b[1;33m\u001b[0m\u001b[0m\n\u001b[0;32m    591\u001b[0m         \u001b[0mname\u001b[0m\u001b[1;33m,\u001b[0m\u001b[1;33m\u001b[0m\u001b[1;33m\u001b[0m\u001b[0m\n",
      "\u001b[1;32m~\\anaconda3\\lib\\site-packages\\pandas\\io\\sql.py\u001b[0m in \u001b[0;36mto_sql\u001b[1;34m(self, frame, name, if_exists, index, index_label, schema, chunksize, dtype, method)\u001b[0m\n\u001b[0;32m   1825\u001b[0m             \u001b[0mdtype\u001b[0m\u001b[1;33m=\u001b[0m\u001b[0mdtype\u001b[0m\u001b[1;33m,\u001b[0m\u001b[1;33m\u001b[0m\u001b[1;33m\u001b[0m\u001b[0m\n\u001b[0;32m   1826\u001b[0m         )\n\u001b[1;32m-> 1827\u001b[1;33m         \u001b[0mtable\u001b[0m\u001b[1;33m.\u001b[0m\u001b[0mcreate\u001b[0m\u001b[1;33m(\u001b[0m\u001b[1;33m)\u001b[0m\u001b[1;33m\u001b[0m\u001b[1;33m\u001b[0m\u001b[0m\n\u001b[0m\u001b[0;32m   1828\u001b[0m         \u001b[0mtable\u001b[0m\u001b[1;33m.\u001b[0m\u001b[0minsert\u001b[0m\u001b[1;33m(\u001b[0m\u001b[0mchunksize\u001b[0m\u001b[1;33m,\u001b[0m \u001b[0mmethod\u001b[0m\u001b[1;33m)\u001b[0m\u001b[1;33m\u001b[0m\u001b[1;33m\u001b[0m\u001b[0m\n\u001b[0;32m   1829\u001b[0m \u001b[1;33m\u001b[0m\u001b[0m\n",
      "\u001b[1;32m~\\anaconda3\\lib\\site-packages\\pandas\\io\\sql.py\u001b[0m in \u001b[0;36mcreate\u001b[1;34m(self)\u001b[0m\n\u001b[0;32m    721\u001b[0m         \u001b[1;32mif\u001b[0m \u001b[0mself\u001b[0m\u001b[1;33m.\u001b[0m\u001b[0mexists\u001b[0m\u001b[1;33m(\u001b[0m\u001b[1;33m)\u001b[0m\u001b[1;33m:\u001b[0m\u001b[1;33m\u001b[0m\u001b[1;33m\u001b[0m\u001b[0m\n\u001b[0;32m    722\u001b[0m             \u001b[1;32mif\u001b[0m \u001b[0mself\u001b[0m\u001b[1;33m.\u001b[0m\u001b[0mif_exists\u001b[0m \u001b[1;33m==\u001b[0m \u001b[1;34m\"fail\"\u001b[0m\u001b[1;33m:\u001b[0m\u001b[1;33m\u001b[0m\u001b[1;33m\u001b[0m\u001b[0m\n\u001b[1;32m--> 723\u001b[1;33m                 \u001b[1;32mraise\u001b[0m \u001b[0mValueError\u001b[0m\u001b[1;33m(\u001b[0m\u001b[1;34mf\"Table '{self.name}' already exists.\"\u001b[0m\u001b[1;33m)\u001b[0m\u001b[1;33m\u001b[0m\u001b[1;33m\u001b[0m\u001b[0m\n\u001b[0m\u001b[0;32m    724\u001b[0m             \u001b[1;32melif\u001b[0m \u001b[0mself\u001b[0m\u001b[1;33m.\u001b[0m\u001b[0mif_exists\u001b[0m \u001b[1;33m==\u001b[0m \u001b[1;34m\"replace\"\u001b[0m\u001b[1;33m:\u001b[0m\u001b[1;33m\u001b[0m\u001b[1;33m\u001b[0m\u001b[0m\n\u001b[0;32m    725\u001b[0m                 \u001b[0mself\u001b[0m\u001b[1;33m.\u001b[0m\u001b[0mpd_sql\u001b[0m\u001b[1;33m.\u001b[0m\u001b[0mdrop_table\u001b[0m\u001b[1;33m(\u001b[0m\u001b[0mself\u001b[0m\u001b[1;33m.\u001b[0m\u001b[0mname\u001b[0m\u001b[1;33m,\u001b[0m \u001b[0mself\u001b[0m\u001b[1;33m.\u001b[0m\u001b[0mschema\u001b[0m\u001b[1;33m)\u001b[0m\u001b[1;33m\u001b[0m\u001b[1;33m\u001b[0m\u001b[0m\n",
      "\u001b[1;31mValueError\u001b[0m: Table 'c_plays' already exists."
     ]
    }
   ],
   "source": [
    "#connect to database\n",
    "conn=sqlite3.connect('SMM.db')\n",
    "#Create a cursor\n",
    "c=conn.cursor()\n",
    "\n",
    "c_plays.to_sql('c_plays',conn)"
   ]
  },
  {
   "cell_type": "code",
   "execution_count": 7,
   "metadata": {},
   "outputs": [
    {
     "name": "stderr",
     "output_type": "stream",
     "text": [
      "C:\\Users\\GSUL User\\anaconda3\\lib\\site-packages\\pandas\\core\\generic.py:2605: UserWarning: The spaces in these column names will not be changed. In pandas versions < 0.14, spaces were converted to underscores.\n",
      "  sql.to_sql(\n"
     ]
    },
    {
     "ename": "ValueError",
     "evalue": "Table 'cm_courses' already exists.",
     "output_type": "error",
     "traceback": [
      "\u001b[1;31m---------------------------------------------------------------------------\u001b[0m",
      "\u001b[1;31mValueError\u001b[0m                                Traceback (most recent call last)",
      "\u001b[1;32m<ipython-input-7-f1e6245389ee>\u001b[0m in \u001b[0;36m<module>\u001b[1;34m\u001b[0m\n\u001b[1;32m----> 1\u001b[1;33m \u001b[0mcm_courses\u001b[0m\u001b[1;33m.\u001b[0m\u001b[0mto_sql\u001b[0m\u001b[1;33m(\u001b[0m\u001b[1;34m'cm_courses'\u001b[0m\u001b[1;33m,\u001b[0m\u001b[0mconn\u001b[0m\u001b[1;33m)\u001b[0m\u001b[1;33m\u001b[0m\u001b[1;33m\u001b[0m\u001b[0m\n\u001b[0m",
      "\u001b[1;32m~\\anaconda3\\lib\\site-packages\\pandas\\core\\generic.py\u001b[0m in \u001b[0;36mto_sql\u001b[1;34m(self, name, con, schema, if_exists, index, index_label, chunksize, dtype, method)\u001b[0m\n\u001b[0;32m   2603\u001b[0m         \u001b[1;32mfrom\u001b[0m \u001b[0mpandas\u001b[0m\u001b[1;33m.\u001b[0m\u001b[0mio\u001b[0m \u001b[1;32mimport\u001b[0m \u001b[0msql\u001b[0m\u001b[1;33m\u001b[0m\u001b[1;33m\u001b[0m\u001b[0m\n\u001b[0;32m   2604\u001b[0m \u001b[1;33m\u001b[0m\u001b[0m\n\u001b[1;32m-> 2605\u001b[1;33m         sql.to_sql(\n\u001b[0m\u001b[0;32m   2606\u001b[0m             \u001b[0mself\u001b[0m\u001b[1;33m,\u001b[0m\u001b[1;33m\u001b[0m\u001b[1;33m\u001b[0m\u001b[0m\n\u001b[0;32m   2607\u001b[0m             \u001b[0mname\u001b[0m\u001b[1;33m,\u001b[0m\u001b[1;33m\u001b[0m\u001b[1;33m\u001b[0m\u001b[0m\n",
      "\u001b[1;32m~\\anaconda3\\lib\\site-packages\\pandas\\io\\sql.py\u001b[0m in \u001b[0;36mto_sql\u001b[1;34m(frame, name, con, schema, if_exists, index, index_label, chunksize, dtype, method)\u001b[0m\n\u001b[0;32m    587\u001b[0m         )\n\u001b[0;32m    588\u001b[0m \u001b[1;33m\u001b[0m\u001b[0m\n\u001b[1;32m--> 589\u001b[1;33m     pandas_sql.to_sql(\n\u001b[0m\u001b[0;32m    590\u001b[0m         \u001b[0mframe\u001b[0m\u001b[1;33m,\u001b[0m\u001b[1;33m\u001b[0m\u001b[1;33m\u001b[0m\u001b[0m\n\u001b[0;32m    591\u001b[0m         \u001b[0mname\u001b[0m\u001b[1;33m,\u001b[0m\u001b[1;33m\u001b[0m\u001b[1;33m\u001b[0m\u001b[0m\n",
      "\u001b[1;32m~\\anaconda3\\lib\\site-packages\\pandas\\io\\sql.py\u001b[0m in \u001b[0;36mto_sql\u001b[1;34m(self, frame, name, if_exists, index, index_label, schema, chunksize, dtype, method)\u001b[0m\n\u001b[0;32m   1825\u001b[0m             \u001b[0mdtype\u001b[0m\u001b[1;33m=\u001b[0m\u001b[0mdtype\u001b[0m\u001b[1;33m,\u001b[0m\u001b[1;33m\u001b[0m\u001b[1;33m\u001b[0m\u001b[0m\n\u001b[0;32m   1826\u001b[0m         )\n\u001b[1;32m-> 1827\u001b[1;33m         \u001b[0mtable\u001b[0m\u001b[1;33m.\u001b[0m\u001b[0mcreate\u001b[0m\u001b[1;33m(\u001b[0m\u001b[1;33m)\u001b[0m\u001b[1;33m\u001b[0m\u001b[1;33m\u001b[0m\u001b[0m\n\u001b[0m\u001b[0;32m   1828\u001b[0m         \u001b[0mtable\u001b[0m\u001b[1;33m.\u001b[0m\u001b[0minsert\u001b[0m\u001b[1;33m(\u001b[0m\u001b[0mchunksize\u001b[0m\u001b[1;33m,\u001b[0m \u001b[0mmethod\u001b[0m\u001b[1;33m)\u001b[0m\u001b[1;33m\u001b[0m\u001b[1;33m\u001b[0m\u001b[0m\n\u001b[0;32m   1829\u001b[0m \u001b[1;33m\u001b[0m\u001b[0m\n",
      "\u001b[1;32m~\\anaconda3\\lib\\site-packages\\pandas\\io\\sql.py\u001b[0m in \u001b[0;36mcreate\u001b[1;34m(self)\u001b[0m\n\u001b[0;32m    721\u001b[0m         \u001b[1;32mif\u001b[0m \u001b[0mself\u001b[0m\u001b[1;33m.\u001b[0m\u001b[0mexists\u001b[0m\u001b[1;33m(\u001b[0m\u001b[1;33m)\u001b[0m\u001b[1;33m:\u001b[0m\u001b[1;33m\u001b[0m\u001b[1;33m\u001b[0m\u001b[0m\n\u001b[0;32m    722\u001b[0m             \u001b[1;32mif\u001b[0m \u001b[0mself\u001b[0m\u001b[1;33m.\u001b[0m\u001b[0mif_exists\u001b[0m \u001b[1;33m==\u001b[0m \u001b[1;34m\"fail\"\u001b[0m\u001b[1;33m:\u001b[0m\u001b[1;33m\u001b[0m\u001b[1;33m\u001b[0m\u001b[0m\n\u001b[1;32m--> 723\u001b[1;33m                 \u001b[1;32mraise\u001b[0m \u001b[0mValueError\u001b[0m\u001b[1;33m(\u001b[0m\u001b[1;34mf\"Table '{self.name}' already exists.\"\u001b[0m\u001b[1;33m)\u001b[0m\u001b[1;33m\u001b[0m\u001b[1;33m\u001b[0m\u001b[0m\n\u001b[0m\u001b[0;32m    724\u001b[0m             \u001b[1;32melif\u001b[0m \u001b[0mself\u001b[0m\u001b[1;33m.\u001b[0m\u001b[0mif_exists\u001b[0m \u001b[1;33m==\u001b[0m \u001b[1;34m\"replace\"\u001b[0m\u001b[1;33m:\u001b[0m\u001b[1;33m\u001b[0m\u001b[1;33m\u001b[0m\u001b[0m\n\u001b[0;32m    725\u001b[0m                 \u001b[0mself\u001b[0m\u001b[1;33m.\u001b[0m\u001b[0mpd_sql\u001b[0m\u001b[1;33m.\u001b[0m\u001b[0mdrop_table\u001b[0m\u001b[1;33m(\u001b[0m\u001b[0mself\u001b[0m\u001b[1;33m.\u001b[0m\u001b[0mname\u001b[0m\u001b[1;33m,\u001b[0m \u001b[0mself\u001b[0m\u001b[1;33m.\u001b[0m\u001b[0mschema\u001b[0m\u001b[1;33m)\u001b[0m\u001b[1;33m\u001b[0m\u001b[1;33m\u001b[0m\u001b[0m\n",
      "\u001b[1;31mValueError\u001b[0m: Table 'cm_courses' already exists."
     ]
    }
   ],
   "source": [
    "cm_courses.to_sql('cm_courses',conn)"
   ]
  },
  {
   "cell_type": "markdown",
   "metadata": {},
   "source": [
    "<div style=\"text-align: right\"><a href = \"#Directory\">Directory</a></div>"
   ]
  },
  {
   "cell_type": "markdown",
   "metadata": {},
   "source": [
    "<p align=\"center\">\n",
    "<img src=\"img/Mario_cleaning.jfif\" alt=\"drawing\" width='400'/>\n",
    "</p>"
   ]
  },
  {
   "cell_type": "markdown",
   "metadata": {},
   "source": [
    "<h2><center><b><u>Datasheet Cleaning And Familiarization</u></b></center></h2>"
   ]
  },
  {
   "cell_type": "markdown",
   "metadata": {},
   "source": [
    "<h3>Original Data</h3>"
   ]
  },
  {
   "cell_type": "code",
   "execution_count": null,
   "metadata": {},
   "outputs": [],
   "source": [
    "#Original Datafiles\n",
    "course_meta=pd.read_csv('../Capstone/course-meta_debugged.csv')\n",
    "courses=pd.read_csv('../Capstone/courses_debugged.csv')\n",
    "clears=pd.read_csv('../Capstone/clears_debugged.csv')\n",
    "likes=pd.read_csv('../Capstone/likes_debugged.csv')\n",
    "plays=pd.read_csv('../Capstone/plays_debugged.csv')\n",
    "records=pd.read_csv('../Capstone/records_debugged.csv')\n",
    "players=pd.read_csv('../Capstone/players_debugged.csv')"
   ]
  },
  {
   "cell_type": "markdown",
   "metadata": {},
   "source": [
    "<h3>Overall</h3>"
   ]
  },
  {
   "cell_type": "markdown",
   "metadata": {},
   "source": [
    "File Dimensions"
   ]
  },
  {
   "cell_type": "code",
   "execution_count": 10,
   "metadata": {},
   "outputs": [],
   "source": [
    "#File dimensions\n",
    "\n",
    "#clears.shape,course_meta.shape, courses.shape, likes.shape, players.shape, plays.shape, records.shape"
   ]
  },
  {
   "cell_type": "markdown",
   "metadata": {},
   "source": [
    "<div style=\"text-align: right\"><a href = \"#Directory\">Directory</a></div>"
   ]
  },
  {
   "cell_type": "markdown",
   "metadata": {},
   "source": [
    "<h3>Courses</h3> "
   ]
  },
  {
   "cell_type": "code",
   "execution_count": 80,
   "metadata": {},
   "outputs": [
    {
     "name": "stdout",
     "output_type": "stream",
     "text": [
      "<class 'pandas.core.frame.DataFrame'>\n",
      "RangeIndex: 115032 entries, 0 to 115031\n",
      "Data columns (total 8 columns):\n",
      " #   Column      Non-Null Count   Dtype \n",
      "---  ------      --------------   ----- \n",
      " 0   Creation    115032 non-null  object\n",
      " 1   Difficulty  115032 non-null  object\n",
      " 2   Game Style  115032 non-null  object\n",
      " 3   Id          115032 non-null  object\n",
      " 4   Image       115032 non-null  object\n",
      " 5   Maker       114956 non-null  object\n",
      " 6   Thumbnail   115032 non-null  object\n",
      " 7   Title       115029 non-null  object\n",
      "dtypes: object(8)\n",
      "memory usage: 7.0+ MB\n"
     ]
    }
   ],
   "source": [
    "#courses.info()"
   ]
  },
  {
   "cell_type": "code",
   "execution_count": 81,
   "metadata": {},
   "outputs": [
    {
     "data": {
      "text/plain": [
       "Index(['Creation', 'Difficulty', 'Game Style', 'Id', 'Image', 'Maker',\n",
       "       'Thumbnail', 'Title'],\n",
       "      dtype='object')"
      ]
     },
     "execution_count": 81,
     "metadata": {},
     "output_type": "execute_result"
    }
   ],
   "source": [
    "#courses.columns"
   ]
  },
  {
   "cell_type": "code",
   "execution_count": 132,
   "metadata": {},
   "outputs": [],
   "source": [
    "courses=courses.reindex(columns=['Id','Title','Difficulty','Game Style',\n",
    "                                'Maker','Creation','Image','Thumbnail'])"
   ]
  },
  {
   "cell_type": "code",
   "execution_count": 133,
   "metadata": {},
   "outputs": [],
   "source": [
    "courses.rename(columns={'Id':'Map_id','Title':'Map_title','Game Style':'Game_style','Image':'Map_image',\n",
    "                        'Thumbnail':'Map_thumbnail'},inplace=True)"
   ]
  },
  {
   "cell_type": "code",
   "execution_count": 134,
   "metadata": {},
   "outputs": [
    {
     "data": {
      "text/plain": [
       "Index(['Map_id', 'Map_title', 'Difficulty', 'Game_style', 'Maker', 'Creation',\n",
       "       'Map_image', 'Map_thumbnail'],\n",
       "      dtype='object')"
      ]
     },
     "execution_count": 134,
     "metadata": {},
     "output_type": "execute_result"
    }
   ],
   "source": [
    "courses.columns"
   ]
  },
  {
   "cell_type": "code",
   "execution_count": 135,
   "metadata": {},
   "outputs": [
    {
     "data": {
      "text/plain": [
       "Map_id            0\n",
       "Map_title         3\n",
       "Difficulty        0\n",
       "Game_style        0\n",
       "Maker            76\n",
       "Creation          0\n",
       "Map_image         0\n",
       "Map_thumbnail     0\n",
       "dtype: int64"
      ]
     },
     "execution_count": 135,
     "metadata": {},
     "output_type": "execute_result"
    }
   ],
   "source": [
    "courses.isnull().sum()"
   ]
  },
  {
   "cell_type": "code",
   "execution_count": 138,
   "metadata": {},
   "outputs": [],
   "source": [
    "courses.to_csv('12_27_20_courses.csv',index=False)"
   ]
  },
  {
   "cell_type": "markdown",
   "metadata": {},
   "source": [
    "<div style=\"text-align: right\"><a href = \"#Directory\">Directory</a></div>"
   ]
  },
  {
   "cell_type": "markdown",
   "metadata": {},
   "source": [
    "<h3>Course_Meta</h3> "
   ]
  },
  {
   "cell_type": "code",
   "execution_count": 30,
   "metadata": {},
   "outputs": [
    {
     "data": {
      "text/plain": [
       "Index(['Map_id', 'Level_tagging', 'Num_players_played', 'Who_cleared_first',\n",
       "       'Num_attempts', 'Num_clears', 'Num_stars', 'Num_tweets', 'Clear Rate',\n",
       "       'Catch'],\n",
       "      dtype='object')"
      ]
     },
     "execution_count": 30,
     "metadata": {},
     "output_type": "execute_result"
    }
   ],
   "source": [
    "#course_meta.columns"
   ]
  },
  {
   "cell_type": "code",
   "execution_count": 14,
   "metadata": {},
   "outputs": [],
   "source": [
    "course_meta.rename(columns={'First Clear':'Who_cleared_first','Id':'Map_id',\n",
    "                           'Tag':'Level_tagging','Attempts':'Num_attempts',\n",
    "                           'Clears':'Num_clears','Players':'Num_players_played',\n",
    "                           'Stars':'Num_stars','Tweets':'Num_tweets'},inplace=True)"
   ]
  },
  {
   "cell_type": "code",
   "execution_count": 15,
   "metadata": {},
   "outputs": [
    {
     "data": {
      "text/plain": [
       "Index(['Catch', 'Who_cleared_first', 'Map_id', 'Level_tagging', 'Num_attempts',\n",
       "       'Clear Rate', 'Num_clears', 'Num_players_played', 'Num_stars',\n",
       "       'Num_tweets'],\n",
       "      dtype='object')"
      ]
     },
     "execution_count": 15,
     "metadata": {},
     "output_type": "execute_result"
    }
   ],
   "source": [
    "course_meta.columns"
   ]
  },
  {
   "cell_type": "code",
   "execution_count": 16,
   "metadata": {},
   "outputs": [],
   "source": [
    "course_meta=course_meta.reindex(columns=['Map_id','Level_tagging','Num_players_played','Who_cleared_first',\n",
    "                                         'Num_attempts','Num_clears','Num_stars','Num_tweets',\n",
    "                                         'Clear Rate','Catch'])"
   ]
  },
  {
   "cell_type": "markdown",
   "metadata": {},
   "source": [
    "<B><I>What does \"Tag\" mean?</I></B>"
   ]
  },
  {
   "cell_type": "code",
   "execution_count": 16,
   "metadata": {},
   "outputs": [
    {
     "data": {
      "text/plain": [
       "array([nan, 'Theme', 'Gimmick', 'Autoscroll', 'Speedrun', 'Traditional',\n",
       "       'Puzzle', 'Thumbnail', 'Dash', 'Remix', 'Music', 'Costume',\n",
       "       'Track', 'Yoshi', 'Automatic', \"Shoot-'em-up\"], dtype=object)"
      ]
     },
     "execution_count": 16,
     "metadata": {},
     "output_type": "execute_result"
    }
   ],
   "source": [
    "#What does \"Tag\" mean?\n",
    "#course_meta['Level_tagging'].unique()"
   ]
  },
  {
   "cell_type": "markdown",
   "metadata": {},
   "source": [
    "<I>Based on the information above, it looks like these are keywords that players can use when searching for maps to play. I have updated the code to rename the \"tag\" column as \"Level_tagging\"</I>"
   ]
  },
  {
   "cell_type": "code",
   "execution_count": 38,
   "metadata": {},
   "outputs": [
    {
     "data": {
      "text/plain": [
       "array([  28,   11,   12, ..., 2073, 2553, 2554], dtype=int64)"
      ]
     },
     "execution_count": 38,
     "metadata": {},
     "output_type": "execute_result"
    }
   ],
   "source": [
    "#course_meta['Num_players_played'].unique()"
   ]
  },
  {
   "cell_type": "code",
   "execution_count": 40,
   "metadata": {},
   "outputs": [
    {
     "data": {
      "text/plain": [
       "array([0, 1, 2, 4, 5], dtype=int64)"
      ]
     },
     "execution_count": 40,
     "metadata": {},
     "output_type": "execute_result"
    }
   ],
   "source": [
    "#course_meta['Num_tweets'].unique()"
   ]
  },
  {
   "cell_type": "code",
   "execution_count": 41,
   "metadata": {},
   "outputs": [
    {
     "data": {
      "text/plain": [
       "array([ 0.  ,  2.17,  5.  , ..., 88.12, 90.8 , 61.63])"
      ]
     },
     "execution_count": 41,
     "metadata": {},
     "output_type": "execute_result"
    }
   ],
   "source": [
    "#course_meta['Clear Rate'].unique()"
   ]
  },
  {
   "cell_type": "markdown",
   "metadata": {},
   "source": [
    "<b><i>How many nulls are in the course_meta sheet?</i></b>"
   ]
  },
  {
   "cell_type": "code",
   "execution_count": 42,
   "metadata": {},
   "outputs": [
    {
     "data": {
      "text/plain": [
       "Map_id                     0\n",
       "Level_tagging         257922\n",
       "Num_players_played         0\n",
       "Who_cleared_first       4127\n",
       "Num_attempts               0\n",
       "Num_clears                 0\n",
       "Num_stars                  0\n",
       "Num_tweets                 0\n",
       "Clear Rate                 0\n",
       "Catch                      0\n",
       "dtype: int64"
      ]
     },
     "execution_count": 42,
     "metadata": {},
     "output_type": "execute_result"
    }
   ],
   "source": [
    "#course_meta.isnull().sum()"
   ]
  },
  {
   "cell_type": "markdown",
   "metadata": {},
   "source": [
    "Most nulls in level_tagging could be due to the maker not creating tags for a particular course."
   ]
  },
  {
   "cell_type": "code",
   "execution_count": 17,
   "metadata": {},
   "outputs": [
    {
     "data": {
      "text/plain": [
       "Index(['Map_id', 'Level_tagging', 'Num_players_played', 'Who_cleared_first',\n",
       "       'Num_attempts', 'Num_clears', 'Num_stars', 'Num_tweets', 'Clear Rate',\n",
       "       'Catch'],\n",
       "      dtype='object')"
      ]
     },
     "execution_count": 17,
     "metadata": {},
     "output_type": "execute_result"
    }
   ],
   "source": [
    "course_meta.columns"
   ]
  },
  {
   "cell_type": "markdown",
   "metadata": {},
   "source": [
    "I removed column \"Catch\", as I was unable to determine what this column measured."
   ]
  },
  {
   "cell_type": "code",
   "execution_count": 18,
   "metadata": {},
   "outputs": [],
   "source": [
    "CM1=course_meta.drop('Catch',axis=1)"
   ]
  },
  {
   "cell_type": "markdown",
   "metadata": {},
   "source": [
    "Save as updated CSV without index"
   ]
  },
  {
   "cell_type": "code",
   "execution_count": 139,
   "metadata": {},
   "outputs": [],
   "source": [
    "CM1.to_csv('12_21_20_Course_meta.csv',index=False)"
   ]
  },
  {
   "cell_type": "markdown",
   "metadata": {},
   "source": [
    "<div style=\"text-align: right\"><a href = \"#Directory\">Directory</a></div>"
   ]
  },
  {
   "cell_type": "markdown",
   "metadata": {},
   "source": [
    "<h3>Clears</h3> "
   ]
  },
  {
   "cell_type": "code",
   "execution_count": 45,
   "metadata": {},
   "outputs": [
    {
     "name": "stdout",
     "output_type": "stream",
     "text": [
      "<class 'pandas.core.frame.DataFrame'>\n",
      "RangeIndex: 2051809 entries, 0 to 2051808\n",
      "Data columns (total 3 columns):\n",
      " #   Column  Dtype \n",
      "---  ------  ----- \n",
      " 0   Catch   object\n",
      " 1   Id      object\n",
      " 2   Player  object\n",
      "dtypes: object(3)\n",
      "memory usage: 47.0+ MB\n"
     ]
    }
   ],
   "source": [
    "#clears.info()"
   ]
  },
  {
   "cell_type": "code",
   "execution_count": 21,
   "metadata": {},
   "outputs": [
    {
     "data": {
      "text/plain": [
       "Catch     0\n",
       "Id        0\n",
       "Player    0\n",
       "dtype: int64"
      ]
     },
     "execution_count": 21,
     "metadata": {},
     "output_type": "execute_result"
    }
   ],
   "source": [
    "clears.isnull().sum()"
   ]
  },
  {
   "cell_type": "markdown",
   "metadata": {},
   "source": [
    "Renaming Columns"
   ]
  },
  {
   "cell_type": "code",
   "execution_count": 140,
   "metadata": {},
   "outputs": [],
   "source": [
    "clears.rename(columns={'Catch':'Date_cleared','Id':'Map_id'},inplace=True)"
   ]
  },
  {
   "cell_type": "code",
   "execution_count": 142,
   "metadata": {},
   "outputs": [],
   "source": [
    "clears.to_csv('12_27_20_clears.csv',index=False)"
   ]
  },
  {
   "cell_type": "markdown",
   "metadata": {},
   "source": [
    "<div style=\"text-align:right\"><a href = \"#Directory\">Directory</a></div>"
   ]
  },
  {
   "cell_type": "markdown",
   "metadata": {},
   "source": [
    "<h3>Likes</h3> "
   ]
  },
  {
   "cell_type": "code",
   "execution_count": 48,
   "metadata": {},
   "outputs": [
    {
     "data": {
      "text/plain": [
       "Index(['Catch', 'Id', 'Player'], dtype='object')"
      ]
     },
     "execution_count": 48,
     "metadata": {},
     "output_type": "execute_result"
    }
   ],
   "source": [
    "#likes.columns"
   ]
  },
  {
   "cell_type": "markdown",
   "metadata": {},
   "source": [
    "Rename ID column"
   ]
  },
  {
   "cell_type": "code",
   "execution_count": 23,
   "metadata": {},
   "outputs": [
    {
     "data": {
      "text/html": [
       "<div>\n",
       "<style scoped>\n",
       "    .dataframe tbody tr th:only-of-type {\n",
       "        vertical-align: middle;\n",
       "    }\n",
       "\n",
       "    .dataframe tbody tr th {\n",
       "        vertical-align: top;\n",
       "    }\n",
       "\n",
       "    .dataframe thead th {\n",
       "        text-align: right;\n",
       "    }\n",
       "</style>\n",
       "<table border=\"1\" class=\"dataframe\">\n",
       "  <thead>\n",
       "    <tr style=\"text-align: right;\">\n",
       "      <th></th>\n",
       "      <th>Catch</th>\n",
       "      <th>Map_id</th>\n",
       "      <th>Player</th>\n",
       "    </tr>\n",
       "  </thead>\n",
       "  <tbody>\n",
       "    <tr>\n",
       "      <th>0</th>\n",
       "      <td>3/2/2018 10:02:35 AM</td>\n",
       "      <td>5B30-0000-0312-ED02</td>\n",
       "      <td>RE5wjB</td>\n",
       "    </tr>\n",
       "    <tr>\n",
       "      <th>1</th>\n",
       "      <td>3/2/2018 10:02:35 AM</td>\n",
       "      <td>5B30-0000-0312-ED02</td>\n",
       "      <td>Space-Mlegend</td>\n",
       "    </tr>\n",
       "    <tr>\n",
       "      <th>2</th>\n",
       "      <td>3/2/2018 10:02:35 AM</td>\n",
       "      <td>5B30-0000-0312-ED02</td>\n",
       "      <td>crimson_badger</td>\n",
       "    </tr>\n",
       "    <tr>\n",
       "      <th>3</th>\n",
       "      <td>3/2/2018 10:02:35 AM</td>\n",
       "      <td>5B30-0000-0312-ED02</td>\n",
       "      <td>cstraub</td>\n",
       "    </tr>\n",
       "    <tr>\n",
       "      <th>4</th>\n",
       "      <td>3/2/2018 10:02:38 AM</td>\n",
       "      <td>5B31-0000-0329-AA93</td>\n",
       "      <td>hokieburger</td>\n",
       "    </tr>\n",
       "    <tr>\n",
       "      <th>...</th>\n",
       "      <td>...</td>\n",
       "      <td>...</td>\n",
       "      <td>...</td>\n",
       "    </tr>\n",
       "    <tr>\n",
       "      <th>618682</th>\n",
       "      <td>12/18/2017 4:15:19 PM</td>\n",
       "      <td>2CE9-0000-0359-21B6</td>\n",
       "      <td>Nathaniel1107</td>\n",
       "    </tr>\n",
       "    <tr>\n",
       "      <th>618683</th>\n",
       "      <td>12/18/2017 4:15:19 PM</td>\n",
       "      <td>2CE9-0000-0359-21B6</td>\n",
       "      <td>alexgitto29</td>\n",
       "    </tr>\n",
       "    <tr>\n",
       "      <th>618684</th>\n",
       "      <td>12/18/2017 4:15:19 PM</td>\n",
       "      <td>2CE9-0000-0359-21B6</td>\n",
       "      <td>mahimiki</td>\n",
       "    </tr>\n",
       "    <tr>\n",
       "      <th>618685</th>\n",
       "      <td>12/18/2017 4:15:19 PM</td>\n",
       "      <td>2CE9-0000-0359-21B6</td>\n",
       "      <td>ukita619</td>\n",
       "    </tr>\n",
       "    <tr>\n",
       "      <th>618686</th>\n",
       "      <td>12/18/2017 4:15:21 PM</td>\n",
       "      <td>2CEA-0000-0303-94CF</td>\n",
       "      <td>RE5wjB</td>\n",
       "    </tr>\n",
       "  </tbody>\n",
       "</table>\n",
       "<p>618687 rows × 3 columns</p>\n",
       "</div>"
      ],
      "text/plain": [
       "                        Catch               Map_id          Player\n",
       "0        3/2/2018 10:02:35 AM  5B30-0000-0312-ED02          RE5wjB\n",
       "1        3/2/2018 10:02:35 AM  5B30-0000-0312-ED02   Space-Mlegend\n",
       "2        3/2/2018 10:02:35 AM  5B30-0000-0312-ED02  crimson_badger\n",
       "3        3/2/2018 10:02:35 AM  5B30-0000-0312-ED02         cstraub\n",
       "4        3/2/2018 10:02:38 AM  5B31-0000-0329-AA93     hokieburger\n",
       "...                       ...                  ...             ...\n",
       "618682  12/18/2017 4:15:19 PM  2CE9-0000-0359-21B6   Nathaniel1107\n",
       "618683  12/18/2017 4:15:19 PM  2CE9-0000-0359-21B6     alexgitto29\n",
       "618684  12/18/2017 4:15:19 PM  2CE9-0000-0359-21B6        mahimiki\n",
       "618685  12/18/2017 4:15:19 PM  2CE9-0000-0359-21B6        ukita619\n",
       "618686  12/18/2017 4:15:21 PM  2CEA-0000-0303-94CF          RE5wjB\n",
       "\n",
       "[618687 rows x 3 columns]"
      ]
     },
     "execution_count": 23,
     "metadata": {},
     "output_type": "execute_result"
    }
   ],
   "source": [
    "likes.rename(columns={'Id':'Map_id'})"
   ]
  },
  {
   "cell_type": "markdown",
   "metadata": {},
   "source": [
    "Based on my research, I have determined the \"catch\" column is the time that the player liked a particular map. As it was not relevant for my analysis, I have decided to remove this column. I saved the updated file as '12_21_20_likes.csv'."
   ]
  },
  {
   "cell_type": "code",
   "execution_count": 24,
   "metadata": {},
   "outputs": [],
   "source": [
    "likes1=likes.drop('Catch',axis=1)"
   ]
  },
  {
   "cell_type": "code",
   "execution_count": 70,
   "metadata": {},
   "outputs": [],
   "source": [
    "likes1.to_csv('12_21_20_likes.csv',index=False)"
   ]
  },
  {
   "cell_type": "markdown",
   "metadata": {},
   "source": [
    "<div style=\"text-align:right\"><a href = \"#Directory\">Directory</a></div>"
   ]
  },
  {
   "cell_type": "markdown",
   "metadata": {},
   "source": [
    "<h3>Players</h3> "
   ]
  },
  {
   "cell_type": "code",
   "execution_count": 28,
   "metadata": {},
   "outputs": [
    {
     "name": "stdout",
     "output_type": "stream",
     "text": [
      "<class 'pandas.core.frame.DataFrame'>\n",
      "RangeIndex: 884302 entries, 0 to 884301\n",
      "Data columns (total 4 columns):\n",
      " #   Column  Non-Null Count   Dtype \n",
      "---  ------  --------------   ----- \n",
      " 0   Flag    884302 non-null  object\n",
      " 1   Id      884302 non-null  object\n",
      " 2   Image   884302 non-null  object\n",
      " 3   Name    884259 non-null  object\n",
      "dtypes: object(4)\n",
      "memory usage: 27.0+ MB\n"
     ]
    }
   ],
   "source": [
    "#players.info()"
   ]
  },
  {
   "cell_type": "code",
   "execution_count": 53,
   "metadata": {},
   "outputs": [
    {
     "data": {
      "text/plain": [
       "Flag      0\n",
       "Id        0\n",
       "Image     0\n",
       "Name     43\n",
       "dtype: int64"
      ]
     },
     "execution_count": 53,
     "metadata": {},
     "output_type": "execute_result"
    }
   ],
   "source": [
    "#players.isnull().sum()"
   ]
  },
  {
   "cell_type": "code",
   "execution_count": 54,
   "metadata": {},
   "outputs": [
    {
     "data": {
      "text/plain": [
       "Index(['Flag', 'Id', 'Image', 'Name'], dtype='object')"
      ]
     },
     "execution_count": 54,
     "metadata": {},
     "output_type": "execute_result"
    }
   ],
   "source": [
    "#players.columns"
   ]
  },
  {
   "cell_type": "code",
   "execution_count": 29,
   "metadata": {},
   "outputs": [],
   "source": [
    "players.rename(columns={'Flag':'Country','Id':'Player_id','Image':'Player_image'},inplace=True)"
   ]
  },
  {
   "cell_type": "code",
   "execution_count": 30,
   "metadata": {},
   "outputs": [
    {
     "data": {
      "text/html": [
       "<div>\n",
       "<style scoped>\n",
       "    .dataframe tbody tr th:only-of-type {\n",
       "        vertical-align: middle;\n",
       "    }\n",
       "\n",
       "    .dataframe tbody tr th {\n",
       "        vertical-align: top;\n",
       "    }\n",
       "\n",
       "    .dataframe thead th {\n",
       "        text-align: right;\n",
       "    }\n",
       "</style>\n",
       "<table border=\"1\" class=\"dataframe\">\n",
       "  <thead>\n",
       "    <tr style=\"text-align: right;\">\n",
       "      <th></th>\n",
       "      <th>Player_id</th>\n",
       "      <th>Name</th>\n",
       "      <th>Country</th>\n",
       "      <th>Player_image</th>\n",
       "    </tr>\n",
       "  </thead>\n",
       "  <tbody>\n",
       "    <tr>\n",
       "      <th>0</th>\n",
       "      <td>vallyturtle</td>\n",
       "      <td>ling long</td>\n",
       "      <td>AG</td>\n",
       "      <td>http://mii-images.cdn.nintendo.net/1qt5mixx27m...</td>\n",
       "    </tr>\n",
       "    <tr>\n",
       "      <th>1</th>\n",
       "      <td>Tommyboy0728</td>\n",
       "      <td>Ryan</td>\n",
       "      <td>AI</td>\n",
       "      <td>http://mii-images.cdn.nintendo.net/2d41b2rg44p...</td>\n",
       "    </tr>\n",
       "    <tr>\n",
       "      <th>2</th>\n",
       "      <td>DELMEZ</td>\n",
       "      <td>freddy</td>\n",
       "      <td>AI</td>\n",
       "      <td>http://mii-images.cdn.nintendo.net/2ow8les7a6q...</td>\n",
       "    </tr>\n",
       "    <tr>\n",
       "      <th>3</th>\n",
       "      <td>ettcasa</td>\n",
       "      <td>eet</td>\n",
       "      <td>AN</td>\n",
       "      <td>http://mii-images.cdn.nintendo.net/wl585rsjai8...</td>\n",
       "    </tr>\n",
       "    <tr>\n",
       "      <th>4</th>\n",
       "      <td>ChocoboDrogomon</td>\n",
       "      <td>Cotaru</td>\n",
       "      <td>AR</td>\n",
       "      <td>http://mii-images.cdn.nintendo.net/38wvrnxfxgt...</td>\n",
       "    </tr>\n",
       "    <tr>\n",
       "      <th>...</th>\n",
       "      <td>...</td>\n",
       "      <td>...</td>\n",
       "      <td>...</td>\n",
       "      <td>...</td>\n",
       "    </tr>\n",
       "    <tr>\n",
       "      <th>884297</th>\n",
       "      <td>icezebra27</td>\n",
       "      <td>Seb</td>\n",
       "      <td>US</td>\n",
       "      <td>http://mii-images.cdn.nintendo.net/2w4i2czmre5...</td>\n",
       "    </tr>\n",
       "    <tr>\n",
       "      <th>884298</th>\n",
       "      <td>igloomeatman</td>\n",
       "      <td>Seb</td>\n",
       "      <td>US</td>\n",
       "      <td>http://mii-images.cdn.nintendo.net/3gju3is5d3a...</td>\n",
       "    </tr>\n",
       "    <tr>\n",
       "      <th>884299</th>\n",
       "      <td>666666seb</td>\n",
       "      <td>SebP2003</td>\n",
       "      <td>US</td>\n",
       "      <td>http://mii-images.cdn.nintendo.net/33v2nylx8bg...</td>\n",
       "    </tr>\n",
       "    <tr>\n",
       "      <th>884300</th>\n",
       "      <td>CharnaySeba</td>\n",
       "      <td>Seba</td>\n",
       "      <td>US</td>\n",
       "      <td>http://mii-images.cdn.nintendo.net/v3xdl23djbl...</td>\n",
       "    </tr>\n",
       "    <tr>\n",
       "      <th>884301</th>\n",
       "      <td>Freedom145</td>\n",
       "      <td>Seba</td>\n",
       "      <td>US</td>\n",
       "      <td>http://mii-images.cdn.nintendo.net/s52x46od8ix...</td>\n",
       "    </tr>\n",
       "  </tbody>\n",
       "</table>\n",
       "<p>884302 rows × 4 columns</p>\n",
       "</div>"
      ],
      "text/plain": [
       "              Player_id       Name Country  \\\n",
       "0           vallyturtle  ling long      AG   \n",
       "1          Tommyboy0728       Ryan      AI   \n",
       "2                DELMEZ     freddy      AI   \n",
       "3               ettcasa        eet      AN   \n",
       "4       ChocoboDrogomon     Cotaru      AR   \n",
       "...                 ...        ...     ...   \n",
       "884297       icezebra27        Seb      US   \n",
       "884298     igloomeatman        Seb      US   \n",
       "884299        666666seb   SebP2003      US   \n",
       "884300      CharnaySeba       Seba      US   \n",
       "884301       Freedom145       Seba      US   \n",
       "\n",
       "                                             Player_image  \n",
       "0       http://mii-images.cdn.nintendo.net/1qt5mixx27m...  \n",
       "1       http://mii-images.cdn.nintendo.net/2d41b2rg44p...  \n",
       "2       http://mii-images.cdn.nintendo.net/2ow8les7a6q...  \n",
       "3       http://mii-images.cdn.nintendo.net/wl585rsjai8...  \n",
       "4       http://mii-images.cdn.nintendo.net/38wvrnxfxgt...  \n",
       "...                                                   ...  \n",
       "884297  http://mii-images.cdn.nintendo.net/2w4i2czmre5...  \n",
       "884298  http://mii-images.cdn.nintendo.net/3gju3is5d3a...  \n",
       "884299  http://mii-images.cdn.nintendo.net/33v2nylx8bg...  \n",
       "884300  http://mii-images.cdn.nintendo.net/v3xdl23djbl...  \n",
       "884301  http://mii-images.cdn.nintendo.net/s52x46od8ix...  \n",
       "\n",
       "[884302 rows x 4 columns]"
      ]
     },
     "execution_count": 30,
     "metadata": {},
     "output_type": "execute_result"
    }
   ],
   "source": [
    "players.reindex(columns=['Player_id','Name','Country','Player_image'])"
   ]
  },
  {
   "cell_type": "code",
   "execution_count": 71,
   "metadata": {},
   "outputs": [],
   "source": [
    "players.to_csv('12_27_20_players.csv',index=False)"
   ]
  },
  {
   "cell_type": "markdown",
   "metadata": {},
   "source": [
    "<div style=\"text-align:right\"><a href = \"#Directory\">Directory</a></div>"
   ]
  },
  {
   "cell_type": "markdown",
   "metadata": {},
   "source": [
    "<h3>Plays</h3> "
   ]
  },
  {
   "cell_type": "code",
   "execution_count": 116,
   "metadata": {},
   "outputs": [
    {
     "name": "stdout",
     "output_type": "stream",
     "text": [
      "<class 'pandas.core.frame.DataFrame'>\n",
      "RangeIndex: 3941378 entries, 0 to 3941377\n",
      "Data columns (total 3 columns):\n",
      " #   Column            Dtype \n",
      "---  ------            ----- \n",
      " 0   Time_started_map  object\n",
      " 1   Map_id            object\n",
      " 2   Player_id         object\n",
      "dtypes: object(3)\n",
      "memory usage: 90.2+ MB\n"
     ]
    }
   ],
   "source": [
    "plays.info()"
   ]
  },
  {
   "cell_type": "code",
   "execution_count": 117,
   "metadata": {},
   "outputs": [
    {
     "data": {
      "text/plain": [
       "Index(['Time_started_map', 'Map_id', 'Player_id'], dtype='object')"
      ]
     },
     "execution_count": 117,
     "metadata": {},
     "output_type": "execute_result"
    }
   ],
   "source": [
    "plays.columns"
   ]
  },
  {
   "cell_type": "code",
   "execution_count": 118,
   "metadata": {},
   "outputs": [
    {
     "data": {
      "text/plain": [
       "Time_started_map    0\n",
       "Map_id              0\n",
       "Player_id           0\n",
       "dtype: int64"
      ]
     },
     "execution_count": 118,
     "metadata": {},
     "output_type": "execute_result"
    }
   ],
   "source": [
    "plays.isnull().sum()"
   ]
  },
  {
   "cell_type": "code",
   "execution_count": 93,
   "metadata": {},
   "outputs": [],
   "source": [
    "plays.rename(columns={'Id':'Map_id','Player':'Player_id','Catch':'Time_started_map'},inplace=True)"
   ]
  },
  {
   "cell_type": "code",
   "execution_count": 94,
   "metadata": {},
   "outputs": [
    {
     "data": {
      "text/html": [
       "<div>\n",
       "<style scoped>\n",
       "    .dataframe tbody tr th:only-of-type {\n",
       "        vertical-align: middle;\n",
       "    }\n",
       "\n",
       "    .dataframe tbody tr th {\n",
       "        vertical-align: top;\n",
       "    }\n",
       "\n",
       "    .dataframe thead th {\n",
       "        text-align: right;\n",
       "    }\n",
       "</style>\n",
       "<table border=\"1\" class=\"dataframe\">\n",
       "  <thead>\n",
       "    <tr style=\"text-align: right;\">\n",
       "      <th></th>\n",
       "      <th>Player_id</th>\n",
       "      <th>Map_id</th>\n",
       "      <th>Time_started_map</th>\n",
       "    </tr>\n",
       "  </thead>\n",
       "  <tbody>\n",
       "    <tr>\n",
       "      <th>0</th>\n",
       "      <td>DerPasi91</td>\n",
       "      <td>26BC-0000-033D-CEBE</td>\n",
       "      <td>3/2/2018 10:33:46 AM</td>\n",
       "    </tr>\n",
       "    <tr>\n",
       "      <th>1</th>\n",
       "      <td>DjStefanootje</td>\n",
       "      <td>26BC-0000-033D-CEBE</td>\n",
       "      <td>3/2/2018 10:33:46 AM</td>\n",
       "    </tr>\n",
       "    <tr>\n",
       "      <th>2</th>\n",
       "      <td>H.H113</td>\n",
       "      <td>26BC-0000-033D-CEBE</td>\n",
       "      <td>3/2/2018 10:33:46 AM</td>\n",
       "    </tr>\n",
       "    <tr>\n",
       "      <th>3</th>\n",
       "      <td>ImWinginIt21</td>\n",
       "      <td>26BC-0000-033D-CEBE</td>\n",
       "      <td>3/2/2018 10:33:46 AM</td>\n",
       "    </tr>\n",
       "    <tr>\n",
       "      <th>4</th>\n",
       "      <td>JesusySabrina</td>\n",
       "      <td>26BC-0000-033D-CEBE</td>\n",
       "      <td>3/2/2018 10:33:46 AM</td>\n",
       "    </tr>\n",
       "    <tr>\n",
       "      <th>...</th>\n",
       "      <td>...</td>\n",
       "      <td>...</td>\n",
       "      <td>...</td>\n",
       "    </tr>\n",
       "    <tr>\n",
       "      <th>3941373</th>\n",
       "      <td>roba1129</td>\n",
       "      <td>F2AD-0000-0357-D6DC</td>\n",
       "      <td>2/23/2018 2:50:56 PM</td>\n",
       "    </tr>\n",
       "    <tr>\n",
       "      <th>3941374</th>\n",
       "      <td>shadow-amnesia</td>\n",
       "      <td>F2AD-0000-0357-D6DC</td>\n",
       "      <td>2/23/2018 2:50:56 PM</td>\n",
       "    </tr>\n",
       "    <tr>\n",
       "      <th>3941375</th>\n",
       "      <td>splatooner2007</td>\n",
       "      <td>F2AD-0000-0357-D6DC</td>\n",
       "      <td>2/23/2018 2:50:56 PM</td>\n",
       "    </tr>\n",
       "    <tr>\n",
       "      <th>3941376</th>\n",
       "      <td>thediddlers</td>\n",
       "      <td>F2AD-0000-0357-D6DC</td>\n",
       "      <td>2/23/2018 2:50:56 PM</td>\n",
       "    </tr>\n",
       "    <tr>\n",
       "      <th>3941377</th>\n",
       "      <td>mamichouflo</td>\n",
       "      <td>F2AD-0000-0357-D6DC</td>\n",
       "      <td>3/3/2018 4:17:35 PM</td>\n",
       "    </tr>\n",
       "  </tbody>\n",
       "</table>\n",
       "<p>3941378 rows × 3 columns</p>\n",
       "</div>"
      ],
      "text/plain": [
       "              Player_id               Map_id      Time_started_map\n",
       "0             DerPasi91  26BC-0000-033D-CEBE  3/2/2018 10:33:46 AM\n",
       "1         DjStefanootje  26BC-0000-033D-CEBE  3/2/2018 10:33:46 AM\n",
       "2                H.H113  26BC-0000-033D-CEBE  3/2/2018 10:33:46 AM\n",
       "3          ImWinginIt21  26BC-0000-033D-CEBE  3/2/2018 10:33:46 AM\n",
       "4         JesusySabrina  26BC-0000-033D-CEBE  3/2/2018 10:33:46 AM\n",
       "...                 ...                  ...                   ...\n",
       "3941373        roba1129  F2AD-0000-0357-D6DC  2/23/2018 2:50:56 PM\n",
       "3941374  shadow-amnesia  F2AD-0000-0357-D6DC  2/23/2018 2:50:56 PM\n",
       "3941375  splatooner2007  F2AD-0000-0357-D6DC  2/23/2018 2:50:56 PM\n",
       "3941376     thediddlers  F2AD-0000-0357-D6DC  2/23/2018 2:50:56 PM\n",
       "3941377     mamichouflo  F2AD-0000-0357-D6DC   3/3/2018 4:17:35 PM\n",
       "\n",
       "[3941378 rows x 3 columns]"
      ]
     },
     "execution_count": 94,
     "metadata": {},
     "output_type": "execute_result"
    }
   ],
   "source": [
    "plays.reindex(columns=['Player_id','Map_id','Time_started_map'])"
   ]
  },
  {
   "cell_type": "code",
   "execution_count": 100,
   "metadata": {},
   "outputs": [],
   "source": [
    "plays.to_csv('12_27_20_plays.csv',index=False)"
   ]
  },
  {
   "cell_type": "markdown",
   "metadata": {},
   "source": [
    "<div style=\"text-align:right\"><a href = \"#Directory\">Directory</a></div>"
   ]
  },
  {
   "cell_type": "markdown",
   "metadata": {},
   "source": [
    "<h3>Records</h3> "
   ]
  },
  {
   "cell_type": "code",
   "execution_count": 101,
   "metadata": {},
   "outputs": [
    {
     "name": "stdout",
     "output_type": "stream",
     "text": [
      "<class 'pandas.core.frame.DataFrame'>\n",
      "RangeIndex: 117126 entries, 0 to 117125\n",
      "Data columns (total 4 columns):\n",
      " #   Column       Non-Null Count   Dtype \n",
      "---  ------       --------------   ----- \n",
      " 0   Catch        117126 non-null  object\n",
      " 1   Id           117126 non-null  object\n",
      " 2   Player       117126 non-null  object\n",
      " 3   Time Record  117126 non-null  int64 \n",
      "dtypes: int64(1), object(3)\n",
      "memory usage: 3.6+ MB\n"
     ]
    }
   ],
   "source": [
    "records.info()"
   ]
  },
  {
   "cell_type": "code",
   "execution_count": 102,
   "metadata": {},
   "outputs": [
    {
     "data": {
      "text/plain": [
       "Catch          0\n",
       "Id             0\n",
       "Player         0\n",
       "Time Record    0\n",
       "dtype: int64"
      ]
     },
     "execution_count": 102,
     "metadata": {},
     "output_type": "execute_result"
    }
   ],
   "source": [
    "records.isnull().sum()"
   ]
  },
  {
   "cell_type": "code",
   "execution_count": 103,
   "metadata": {},
   "outputs": [
    {
     "data": {
      "text/plain": [
       "Index(['Catch', 'Id', 'Player', 'Time Record'], dtype='object')"
      ]
     },
     "execution_count": 103,
     "metadata": {},
     "output_type": "execute_result"
    }
   ],
   "source": [
    "records.columns"
   ]
  },
  {
   "cell_type": "code",
   "execution_count": 107,
   "metadata": {},
   "outputs": [],
   "source": [
    "records.rename(columns={'Catch':'Record_time','Id':'Map_id','Time Record':'Milliseconds'},inplace=True)"
   ]
  },
  {
   "cell_type": "code",
   "execution_count": 108,
   "metadata": {},
   "outputs": [
    {
     "data": {
      "text/plain": [
       "Index(['Record_time', 'Map_id', 'Player', 'Milliseconds'], dtype='object')"
      ]
     },
     "execution_count": 108,
     "metadata": {},
     "output_type": "execute_result"
    }
   ],
   "source": [
    "records.columns"
   ]
  },
  {
   "cell_type": "code",
   "execution_count": 109,
   "metadata": {},
   "outputs": [],
   "source": [
    "records.to_csv('12_27_20_records.csv',index=False)"
   ]
  },
  {
   "cell_type": "markdown",
   "metadata": {},
   "source": [
    "<div style=\"text-align:right\"><a href = \"#Directory\">Directory</a></div>"
   ]
  },
  {
   "cell_type": "markdown",
   "metadata": {},
   "source": [
    "<p align=\"center\">\n",
    "<img src=\"img/Mario_Luggage.jpg\" alt=\"drawing\" width='800'/>\n",
    "</p>"
   ]
  },
  {
   "cell_type": "markdown",
   "metadata": {},
   "source": [
    "<H2><center><b><u>Data Analysis</b></u></center></H2><a id=\"Data_analysis\"></a>"
   ]
  },
  {
   "cell_type": "code",
   "execution_count": 126,
   "metadata": {},
   "outputs": [],
   "source": [
    "cm1.to_csv('12_27_20_cm1.csv',index=False)"
   ]
  },
  {
   "cell_type": "code",
   "execution_count": 147,
   "metadata": {},
   "outputs": [],
   "source": [
    "c_plays=pd.merge(plays,courses,left_on='Map_id',right_on='Map_id')"
   ]
  },
  {
   "cell_type": "code",
   "execution_count": 149,
   "metadata": {},
   "outputs": [],
   "source": [
    "c_plays.to_csv('12_26_20_c_plays.csv',index=False)"
   ]
  },
  {
   "cell_type": "code",
   "execution_count": 135,
   "metadata": {},
   "outputs": [
    {
     "data": {
      "text/plain": [
       "(3941378, 10)"
      ]
     },
     "execution_count": 135,
     "metadata": {},
     "output_type": "execute_result"
    }
   ],
   "source": [
    "c_plays.shape"
   ]
  },
  {
   "cell_type": "code",
   "execution_count": 4,
   "metadata": {},
   "outputs": [
    {
     "name": "stdout",
     "output_type": "stream",
     "text": [
      "<class 'pandas.core.frame.DataFrame'>\n",
      "RangeIndex: 3941378 entries, 0 to 3941377\n",
      "Data columns (total 10 columns):\n",
      " #   Column            Dtype \n",
      "---  ------            ----- \n",
      " 0   Time_started_map  object\n",
      " 1   Map_id            object\n",
      " 2   Player_id         object\n",
      " 3   Map_title         object\n",
      " 4   Difficulty        object\n",
      " 5   Game_style        object\n",
      " 6   Maker             object\n",
      " 7   Creation          object\n",
      " 8   Map_image         object\n",
      " 9   Map_thumbnail     object\n",
      "dtypes: object(10)\n",
      "memory usage: 3.0 GB\n"
     ]
    }
   ],
   "source": [
    "c_plays.info(memory_usage='deep')"
   ]
  },
  {
   "cell_type": "code",
   "execution_count": 4,
   "metadata": {},
   "outputs": [],
   "source": [
    "cm_courses=pd.merge(course_meta,courses,left_on='Map_id',right_on='Map_id')"
   ]
  },
  {
   "cell_type": "code",
   "execution_count": 5,
   "metadata": {},
   "outputs": [],
   "source": [
    "cm_courses.to_csv('12_27_20_cm_courses.csv',index=False)"
   ]
  },
  {
   "cell_type": "markdown",
   "metadata": {},
   "source": [
    "<h2><b>Overall</b></h2><a id=\"Overallda\"></a>"
   ]
  },
  {
   "cell_type": "markdown",
   "metadata": {},
   "source": [
    "<b><i>Most Attempted Game Style</i></b>"
   ]
  },
  {
   "cell_type": "code",
   "execution_count": 5,
   "metadata": {},
   "outputs": [
    {
     "data": {
      "text/plain": [
       "Game_style\n",
       "marioBros     347878021\n",
       "marioWorld    167009541\n",
       "marioBrosU     78923795\n",
       "marioBros3     36305000\n",
       "Name: Num_attempts, dtype: int64"
      ]
     },
     "execution_count": 5,
     "metadata": {},
     "output_type": "execute_result"
    }
   ],
   "source": [
    "cm_courses.groupby(['Game_style'])['Num_attempts'].sum().nlargest()"
   ]
  },
  {
   "cell_type": "markdown",
   "metadata": {},
   "source": [
    "<b><i>Median and average number of attempts by Game Style</i></b>"
   ]
  },
  {
   "cell_type": "code",
   "execution_count": 6,
   "metadata": {},
   "outputs": [
    {
     "data": {
      "text/plain": [
       "Game_style\n",
       "marioBros     103\n",
       "marioBros3    134\n",
       "marioBrosU    103\n",
       "marioWorld    159\n",
       "Name: Num_attempts, dtype: int64"
      ]
     },
     "execution_count": 6,
     "metadata": {},
     "output_type": "execute_result"
    }
   ],
   "source": [
    "cm_courses.groupby(['Game_style'])['Num_attempts'].median()"
   ]
  },
  {
   "cell_type": "code",
   "execution_count": 26,
   "metadata": {},
   "outputs": [
    {
     "data": {
      "text/plain": [
       "Game_style\n",
       "marioBros     4862.0\n",
       "marioBros3    1275.0\n",
       "marioBrosU     614.0\n",
       "marioWorld    2621.0\n",
       "Name: Num_attempts, dtype: float64"
      ]
     },
     "execution_count": 26,
     "metadata": {},
     "output_type": "execute_result"
    }
   ],
   "source": [
    "cm_courses.groupby(['Game_style'])['Num_attempts'].mean().round(0)"
   ]
  },
  {
   "cell_type": "markdown",
   "metadata": {},
   "source": [
    "<b><i>Number of Players that Played (Sorted by Level of Difficulty)</i></b>"
   ]
  },
  {
   "cell_type": "code",
   "execution_count": 29,
   "metadata": {},
   "outputs": [
    {
     "data": {
      "text/plain": [
       "Difficulty\n",
       "normal         30182692\n",
       "superExpert    26490244\n",
       "expert         23755841\n",
       "easy           14025149\n",
       "Name: Num_players_played, dtype: int64"
      ]
     },
     "execution_count": 29,
     "metadata": {},
     "output_type": "execute_result"
    }
   ],
   "source": [
    "cm_courses.groupby(['Difficulty'])['Num_players_played'].sum().sort_values(ascending=False)"
   ]
  },
  {
   "cell_type": "markdown",
   "metadata": {},
   "source": [
    "<b><i>Maps with the Greatest Number of Likes</i></b>"
   ]
  },
  {
   "cell_type": "code",
   "execution_count": 30,
   "metadata": {},
   "outputs": [
    {
     "data": {
      "text/plain": [
       "Map_id\n",
       "140E-0000-0321-38D6    1257856\n",
       "DE4D-0000-035D-3AE1     683646\n",
       "9FC1-0000-033D-EEA1     555600\n",
       "6B04-0000-0315-CC87     446976\n",
       "1F6D-0000-0331-75D7     382072\n",
       "                        ...   \n",
       "5109-0000-0368-1DB9          0\n",
       "14B7-0000-0345-F9A6          0\n",
       "9C73-0000-0307-CB8B          0\n",
       "C490-0000-0345-F6D8          0\n",
       "A8CE-0000-0364-841C          0\n",
       "Name: Num_stars, Length: 115032, dtype: int64"
      ]
     },
     "execution_count": 30,
     "metadata": {},
     "output_type": "execute_result"
    }
   ],
   "source": [
    "cm_courses.groupby(['Map_id'])['Num_stars'].sum().sort_values(ascending=False)"
   ]
  },
  {
   "cell_type": "markdown",
   "metadata": {},
   "source": [
    "<div style=\"text-align:right\"><a href = \"#Directory\">Directory</a></div>"
   ]
  },
  {
   "cell_type": "markdown",
   "metadata": {},
   "source": [
    "<h2><b>Level Tagging</b></h2><a id=\"Level_tagging\"></a>"
   ]
  },
  {
   "cell_type": "markdown",
   "metadata": {},
   "source": [
    "<b><i>How many of each tag is there?</i></b>"
   ]
  },
  {
   "cell_type": "code",
   "execution_count": 35,
   "metadata": {},
   "outputs": [
    {
     "data": {
      "text/plain": [
       "Level_tagging\n",
       "Traditional     6641\n",
       "Theme           5602\n",
       "Puzzle          4415\n",
       "Speedrun        4250\n",
       "Gimmick         2990\n",
       "Music           2701\n",
       "Dash            1988\n",
       "Remix           1627\n",
       "Costume         1022\n",
       "Autoscroll       880\n",
       "Thumbnail        744\n",
       "Automatic        516\n",
       "Yoshi            406\n",
       "Track            324\n",
       "Shoot-'em-up     270\n",
       "Name: Level_tagging, dtype: int64"
      ]
     },
     "execution_count": 35,
     "metadata": {},
     "output_type": "execute_result"
    }
   ],
   "source": [
    "cm_courses.groupby(['Level_tagging'])['Level_tagging'].count().sort_values(ascending=False)"
   ]
  },
  {
   "cell_type": "code",
   "execution_count": null,
   "metadata": {},
   "outputs": [],
   "source": [
    "cm_courses.groupby(['Level_tagging'])['Level_tagging'].count().sort_values(ascending=False)"
   ]
  },
  {
   "cell_type": "markdown",
   "metadata": {},
   "source": [
    "<b><i>Which map has the greatest number of tags</i></b>"
   ]
  },
  {
   "cell_type": "code",
   "execution_count": 7,
   "metadata": {},
   "outputs": [
    {
     "data": {
      "text/plain": [
       "Map_id               Map_title                       \n",
       "67CF-0000-035F-BC1D  The Kindly Marked Troll Level       357\n",
       "5AB9-0000-038F-A23E  [Quiz] Look Picture, Choose Item    287\n",
       "F44D-0000-035E-496C  [2YMM] In Muris Occulta             275\n",
       "F898-0000-0382-E5FE  [PPP] Pen & Paper Pyramid           256\n",
       "9FC1-0000-033D-EEA1  Mario Kart DELUXE?!?                250\n",
       "                                                        ... \n",
       "A93B-0000-035B-66B5  Speedrun.....maybe                    0\n",
       "A93C-0000-0358-20A2  Speed Spike Jumps                     0\n",
       "A93D-0000-035A-1E1C  Cat Mario                             0\n",
       "A93D-0000-0363-AB08  leicht/schwer                         0\n",
       "0000-0000-0353-3D35  mini parcours                         0\n",
       "Name: Level_tagging, Length: 115029, dtype: int64"
      ]
     },
     "execution_count": 7,
     "metadata": {},
     "output_type": "execute_result"
    }
   ],
   "source": [
    "cm_courses.groupby(['Map_id', 'Map_title'])['Level_tagging'].count().sort_values(ascending=False)"
   ]
  },
  {
   "cell_type": "markdown",
   "metadata": {},
   "source": [
    "<i>See SMM_Deliverable (excel) for Pivot Table for additional analysis on level tagging</i>"
   ]
  },
  {
   "cell_type": "markdown",
   "metadata": {},
   "source": [
    "<div style=\"text-align:right\"><a href = \"#Directory\">Directory</a></div>"
   ]
  },
  {
   "cell_type": "markdown",
   "metadata": {},
   "source": [
    "<H2><b>Level of Difficulty</b></H2><a id=\"Level_difficulty\"></a>"
   ]
  },
  {
   "cell_type": "code",
   "execution_count": 11,
   "metadata": {},
   "outputs": [
    {
     "data": {
      "text/html": [
       "<div>\n",
       "<style scoped>\n",
       "    .dataframe tbody tr th:only-of-type {\n",
       "        vertical-align: middle;\n",
       "    }\n",
       "\n",
       "    .dataframe tbody tr th {\n",
       "        vertical-align: top;\n",
       "    }\n",
       "\n",
       "    .dataframe thead th {\n",
       "        text-align: right;\n",
       "    }\n",
       "</style>\n",
       "<table border=\"1\" class=\"dataframe\">\n",
       "  <thead>\n",
       "    <tr style=\"text-align: right;\">\n",
       "      <th></th>\n",
       "      <th>index</th>\n",
       "      <th>Time_started_map</th>\n",
       "      <th>Map_id</th>\n",
       "      <th>Player_id</th>\n",
       "      <th>Map_title</th>\n",
       "      <th>Difficulty</th>\n",
       "      <th>Game Style</th>\n",
       "      <th>Maker</th>\n",
       "      <th>Creation</th>\n",
       "      <th>Map_image</th>\n",
       "      <th>Map_thumbnail</th>\n",
       "    </tr>\n",
       "  </thead>\n",
       "  <tbody>\n",
       "    <tr>\n",
       "      <th>0</th>\n",
       "      <td>0</td>\n",
       "      <td>3/2/2018 10:33:46 AM</td>\n",
       "      <td>26BC-0000-033D-CEBE</td>\n",
       "      <td>DerPasi91</td>\n",
       "      <td>Where is the door</td>\n",
       "      <td>normal</td>\n",
       "      <td>marioBrosU</td>\n",
       "      <td>canemde</td>\n",
       "      <td>6/25/2017 12:00:00 AM</td>\n",
       "      <td>https://dypqnhofrd2x2.cloudfront.net/26BC-0000...</td>\n",
       "      <td>https://dypqnhofrd2x2.cloudfront.net/26BC-0000...</td>\n",
       "    </tr>\n",
       "    <tr>\n",
       "      <th>1</th>\n",
       "      <td>1</td>\n",
       "      <td>3/2/2018 10:33:46 AM</td>\n",
       "      <td>26BC-0000-033D-CEBE</td>\n",
       "      <td>DjStefanootje</td>\n",
       "      <td>Where is the door</td>\n",
       "      <td>normal</td>\n",
       "      <td>marioBrosU</td>\n",
       "      <td>canemde</td>\n",
       "      <td>6/25/2017 12:00:00 AM</td>\n",
       "      <td>https://dypqnhofrd2x2.cloudfront.net/26BC-0000...</td>\n",
       "      <td>https://dypqnhofrd2x2.cloudfront.net/26BC-0000...</td>\n",
       "    </tr>\n",
       "    <tr>\n",
       "      <th>2</th>\n",
       "      <td>2</td>\n",
       "      <td>3/2/2018 10:33:46 AM</td>\n",
       "      <td>26BC-0000-033D-CEBE</td>\n",
       "      <td>H.H113</td>\n",
       "      <td>Where is the door</td>\n",
       "      <td>normal</td>\n",
       "      <td>marioBrosU</td>\n",
       "      <td>canemde</td>\n",
       "      <td>6/25/2017 12:00:00 AM</td>\n",
       "      <td>https://dypqnhofrd2x2.cloudfront.net/26BC-0000...</td>\n",
       "      <td>https://dypqnhofrd2x2.cloudfront.net/26BC-0000...</td>\n",
       "    </tr>\n",
       "    <tr>\n",
       "      <th>3</th>\n",
       "      <td>3</td>\n",
       "      <td>3/2/2018 10:33:46 AM</td>\n",
       "      <td>26BC-0000-033D-CEBE</td>\n",
       "      <td>ImWinginIt21</td>\n",
       "      <td>Where is the door</td>\n",
       "      <td>normal</td>\n",
       "      <td>marioBrosU</td>\n",
       "      <td>canemde</td>\n",
       "      <td>6/25/2017 12:00:00 AM</td>\n",
       "      <td>https://dypqnhofrd2x2.cloudfront.net/26BC-0000...</td>\n",
       "      <td>https://dypqnhofrd2x2.cloudfront.net/26BC-0000...</td>\n",
       "    </tr>\n",
       "    <tr>\n",
       "      <th>4</th>\n",
       "      <td>4</td>\n",
       "      <td>3/2/2018 10:33:46 AM</td>\n",
       "      <td>26BC-0000-033D-CEBE</td>\n",
       "      <td>JesusySabrina</td>\n",
       "      <td>Where is the door</td>\n",
       "      <td>normal</td>\n",
       "      <td>marioBrosU</td>\n",
       "      <td>canemde</td>\n",
       "      <td>6/25/2017 12:00:00 AM</td>\n",
       "      <td>https://dypqnhofrd2x2.cloudfront.net/26BC-0000...</td>\n",
       "      <td>https://dypqnhofrd2x2.cloudfront.net/26BC-0000...</td>\n",
       "    </tr>\n",
       "    <tr>\n",
       "      <th>...</th>\n",
       "      <td>...</td>\n",
       "      <td>...</td>\n",
       "      <td>...</td>\n",
       "      <td>...</td>\n",
       "      <td>...</td>\n",
       "      <td>...</td>\n",
       "      <td>...</td>\n",
       "      <td>...</td>\n",
       "      <td>...</td>\n",
       "      <td>...</td>\n",
       "      <td>...</td>\n",
       "    </tr>\n",
       "    <tr>\n",
       "      <th>3941373</th>\n",
       "      <td>3941373</td>\n",
       "      <td>3/2/2018 9:50:59 AM</td>\n",
       "      <td>F2AC-0000-0362-D433</td>\n",
       "      <td>jesusjr2</td>\n",
       "      <td>jump and run</td>\n",
       "      <td>normal</td>\n",
       "      <td>marioBrosU</td>\n",
       "      <td>Black_Thunder_6</td>\n",
       "      <td>10/1/2017 12:00:00 AM</td>\n",
       "      <td>https://dypqnhofrd2x2.cloudfront.net/F2AC-0000...</td>\n",
       "      <td>https://dypqnhofrd2x2.cloudfront.net/F2AC-0000...</td>\n",
       "    </tr>\n",
       "    <tr>\n",
       "      <th>3941374</th>\n",
       "      <td>3941374</td>\n",
       "      <td>3/2/2018 9:50:59 AM</td>\n",
       "      <td>F2AC-0000-0362-D433</td>\n",
       "      <td>knb6188</td>\n",
       "      <td>jump and run</td>\n",
       "      <td>normal</td>\n",
       "      <td>marioBrosU</td>\n",
       "      <td>Black_Thunder_6</td>\n",
       "      <td>10/1/2017 12:00:00 AM</td>\n",
       "      <td>https://dypqnhofrd2x2.cloudfront.net/F2AC-0000...</td>\n",
       "      <td>https://dypqnhofrd2x2.cloudfront.net/F2AC-0000...</td>\n",
       "    </tr>\n",
       "    <tr>\n",
       "      <th>3941375</th>\n",
       "      <td>3941375</td>\n",
       "      <td>3/2/2018 9:50:59 AM</td>\n",
       "      <td>F2AC-0000-0362-D433</td>\n",
       "      <td>proflegend</td>\n",
       "      <td>jump and run</td>\n",
       "      <td>normal</td>\n",
       "      <td>marioBrosU</td>\n",
       "      <td>Black_Thunder_6</td>\n",
       "      <td>10/1/2017 12:00:00 AM</td>\n",
       "      <td>https://dypqnhofrd2x2.cloudfront.net/F2AC-0000...</td>\n",
       "      <td>https://dypqnhofrd2x2.cloudfront.net/F2AC-0000...</td>\n",
       "    </tr>\n",
       "    <tr>\n",
       "      <th>3941376</th>\n",
       "      <td>3941376</td>\n",
       "      <td>3/2/2018 9:50:59 AM</td>\n",
       "      <td>F2AC-0000-0362-D433</td>\n",
       "      <td>reachreach</td>\n",
       "      <td>jump and run</td>\n",
       "      <td>normal</td>\n",
       "      <td>marioBrosU</td>\n",
       "      <td>Black_Thunder_6</td>\n",
       "      <td>10/1/2017 12:00:00 AM</td>\n",
       "      <td>https://dypqnhofrd2x2.cloudfront.net/F2AC-0000...</td>\n",
       "      <td>https://dypqnhofrd2x2.cloudfront.net/F2AC-0000...</td>\n",
       "    </tr>\n",
       "    <tr>\n",
       "      <th>3941377</th>\n",
       "      <td>3941377</td>\n",
       "      <td>3/2/2018 9:50:59 AM</td>\n",
       "      <td>F2AC-0000-0362-D433</td>\n",
       "      <td>tijnhendriks02</td>\n",
       "      <td>jump and run</td>\n",
       "      <td>normal</td>\n",
       "      <td>marioBrosU</td>\n",
       "      <td>Black_Thunder_6</td>\n",
       "      <td>10/1/2017 12:00:00 AM</td>\n",
       "      <td>https://dypqnhofrd2x2.cloudfront.net/F2AC-0000...</td>\n",
       "      <td>https://dypqnhofrd2x2.cloudfront.net/F2AC-0000...</td>\n",
       "    </tr>\n",
       "  </tbody>\n",
       "</table>\n",
       "<p>3941378 rows × 11 columns</p>\n",
       "</div>"
      ],
      "text/plain": [
       "           index      Time_started_map               Map_id       Player_id  \\\n",
       "0              0  3/2/2018 10:33:46 AM  26BC-0000-033D-CEBE       DerPasi91   \n",
       "1              1  3/2/2018 10:33:46 AM  26BC-0000-033D-CEBE   DjStefanootje   \n",
       "2              2  3/2/2018 10:33:46 AM  26BC-0000-033D-CEBE          H.H113   \n",
       "3              3  3/2/2018 10:33:46 AM  26BC-0000-033D-CEBE    ImWinginIt21   \n",
       "4              4  3/2/2018 10:33:46 AM  26BC-0000-033D-CEBE   JesusySabrina   \n",
       "...          ...                   ...                  ...             ...   \n",
       "3941373  3941373   3/2/2018 9:50:59 AM  F2AC-0000-0362-D433        jesusjr2   \n",
       "3941374  3941374   3/2/2018 9:50:59 AM  F2AC-0000-0362-D433         knb6188   \n",
       "3941375  3941375   3/2/2018 9:50:59 AM  F2AC-0000-0362-D433      proflegend   \n",
       "3941376  3941376   3/2/2018 9:50:59 AM  F2AC-0000-0362-D433      reachreach   \n",
       "3941377  3941377   3/2/2018 9:50:59 AM  F2AC-0000-0362-D433  tijnhendriks02   \n",
       "\n",
       "                 Map_title Difficulty  Game Style            Maker  \\\n",
       "0        Where is the door     normal  marioBrosU          canemde   \n",
       "1        Where is the door     normal  marioBrosU          canemde   \n",
       "2        Where is the door     normal  marioBrosU          canemde   \n",
       "3        Where is the door     normal  marioBrosU          canemde   \n",
       "4        Where is the door     normal  marioBrosU          canemde   \n",
       "...                    ...        ...         ...              ...   \n",
       "3941373       jump and run     normal  marioBrosU  Black_Thunder_6   \n",
       "3941374       jump and run     normal  marioBrosU  Black_Thunder_6   \n",
       "3941375       jump and run     normal  marioBrosU  Black_Thunder_6   \n",
       "3941376       jump and run     normal  marioBrosU  Black_Thunder_6   \n",
       "3941377       jump and run     normal  marioBrosU  Black_Thunder_6   \n",
       "\n",
       "                      Creation  \\\n",
       "0        6/25/2017 12:00:00 AM   \n",
       "1        6/25/2017 12:00:00 AM   \n",
       "2        6/25/2017 12:00:00 AM   \n",
       "3        6/25/2017 12:00:00 AM   \n",
       "4        6/25/2017 12:00:00 AM   \n",
       "...                        ...   \n",
       "3941373  10/1/2017 12:00:00 AM   \n",
       "3941374  10/1/2017 12:00:00 AM   \n",
       "3941375  10/1/2017 12:00:00 AM   \n",
       "3941376  10/1/2017 12:00:00 AM   \n",
       "3941377  10/1/2017 12:00:00 AM   \n",
       "\n",
       "                                                 Map_image  \\\n",
       "0        https://dypqnhofrd2x2.cloudfront.net/26BC-0000...   \n",
       "1        https://dypqnhofrd2x2.cloudfront.net/26BC-0000...   \n",
       "2        https://dypqnhofrd2x2.cloudfront.net/26BC-0000...   \n",
       "3        https://dypqnhofrd2x2.cloudfront.net/26BC-0000...   \n",
       "4        https://dypqnhofrd2x2.cloudfront.net/26BC-0000...   \n",
       "...                                                    ...   \n",
       "3941373  https://dypqnhofrd2x2.cloudfront.net/F2AC-0000...   \n",
       "3941374  https://dypqnhofrd2x2.cloudfront.net/F2AC-0000...   \n",
       "3941375  https://dypqnhofrd2x2.cloudfront.net/F2AC-0000...   \n",
       "3941376  https://dypqnhofrd2x2.cloudfront.net/F2AC-0000...   \n",
       "3941377  https://dypqnhofrd2x2.cloudfront.net/F2AC-0000...   \n",
       "\n",
       "                                             Map_thumbnail  \n",
       "0        https://dypqnhofrd2x2.cloudfront.net/26BC-0000...  \n",
       "1        https://dypqnhofrd2x2.cloudfront.net/26BC-0000...  \n",
       "2        https://dypqnhofrd2x2.cloudfront.net/26BC-0000...  \n",
       "3        https://dypqnhofrd2x2.cloudfront.net/26BC-0000...  \n",
       "4        https://dypqnhofrd2x2.cloudfront.net/26BC-0000...  \n",
       "...                                                    ...  \n",
       "3941373  https://dypqnhofrd2x2.cloudfront.net/F2AC-0000...  \n",
       "3941374  https://dypqnhofrd2x2.cloudfront.net/F2AC-0000...  \n",
       "3941375  https://dypqnhofrd2x2.cloudfront.net/F2AC-0000...  \n",
       "3941376  https://dypqnhofrd2x2.cloudfront.net/F2AC-0000...  \n",
       "3941377  https://dypqnhofrd2x2.cloudfront.net/F2AC-0000...  \n",
       "\n",
       "[3941378 rows x 11 columns]"
      ]
     },
     "execution_count": 11,
     "metadata": {},
     "output_type": "execute_result"
    }
   ],
   "source": [
    "pd.read_sql(\"\"\"SELECT*FROM c_plays\"\"\",conn)"
   ]
  },
  {
   "cell_type": "markdown",
   "metadata": {},
   "source": [
    "<div style=\"text-align:right\"><a href = \"#Directory\">Directory</a></div>"
   ]
  },
  {
   "cell_type": "markdown",
   "metadata": {},
   "source": [
    "<h3><b><i>\"Normal\" Difficulty</i></b></h3>"
   ]
  },
  {
   "cell_type": "code",
   "execution_count": 6,
   "metadata": {},
   "outputs": [],
   "source": [
    "normal_diff=pd.read_sql(\"\"\"\n",
    "\n",
    "SELECT *\n",
    "FROM c_plays\n",
    "WHERE Difficulty LIKE \"normal\"\n",
    "\n",
    "\"\"\",conn)"
   ]
  },
  {
   "cell_type": "markdown",
   "metadata": {},
   "source": [
    "<b><i>Maps with the greatest number of play for \"normal\" level of difficulty</i></b>"
   ]
  },
  {
   "cell_type": "code",
   "execution_count": 7,
   "metadata": {},
   "outputs": [
    {
     "data": {
      "text/plain": [
       "Map_id               Map_title                       \n",
       "5AB9-0000-038F-A23E  [Quiz] Look Picture, Choose Item    1673\n",
       "A4E1-0000-038D-0EBC  Marios secret Trainingsparcours     1021\n",
       "CE94-0000-038F-7559  ◆●Speed run spécial kinoko●◆         997\n",
       "BAC8-0000-036A-7EE1  [2YMM] Ode to Odyssey                937\n",
       "9085-0000-038F-A6F7  Mario kart 8 deluxe × désert sec     775\n",
       "EC5C-0000-038F-7B8F  ~Pour Papounet-daniel et Felix~      628\n",
       "EEFB-0000-0349-8A66  - STARS RECEIVED -                   530\n",
       "140E-0000-0321-38D6  Zelda: Temple Of Courage             509\n",
       "92A4-0000-0313-0C32  Vegas Spring Jump Training Lvl 1     509\n",
       "7839-0000-0390-2E26  MK8 deluxe × Piste aux délices       507\n",
       "34F1-0000-0365-FE7C  Little Boo's Outside Playtime        483\n",
       "4802-0000-038E-21AB  Speed Run [ 50 secondes ]            479\n",
       "33FC-0000-0383-9D7E  [PPP] Moonlit Musical Manor          477\n",
       "2959-0000-0330-454C  Spiked Stiletto Stomp the Second     453\n",
       "D64D-0000-0361-D1E2  ♪Freezy Flake Galaxy♪                422\n",
       "FA2B-0000-0387-ADB4  - APOLLO 11 -                        404\n",
       "7061-0000-0334-DAD3  - TABLE of CONTENTS -                371\n",
       "062B-0000-0382-E7CC  10K Stars: Crazy Amiibo House        357\n",
       "6597-0000-0354-33CD  Daxton5&J Volcano Lava               355\n",
       "84EF-0000-0316-F63B  My Little Melody - Hold ↑+A          344\n",
       "0479-0000-0364-BF71  MARK'S KARMA CRASH COURSE            340\n",
       "09AB-0000-0351-7E35  NES REMIX MARIO LEVEL 4-1,1-2        334\n",
       "74E2-0000-033C-A7CF  Yoshi Yoshi - Hold B                 334\n",
       "A16B-0000-0382-F17E  ◆● Cannonball Jumper 2 ●◆            333\n",
       "6067-0000-0340-A599  Overgrown Cave                       330\n",
       "Name: Difficulty, dtype: int64"
      ]
     },
     "execution_count": 7,
     "metadata": {},
     "output_type": "execute_result"
    }
   ],
   "source": [
    "normal_diff.groupby(['Map_id','Map_title'])['Difficulty'].count().nlargest(25)"
   ]
  },
  {
   "cell_type": "markdown",
   "metadata": {},
   "source": [
    "<b><i>What tags are used most often for Maps with \"normal\" difficulty?</i></b>"
   ]
  },
  {
   "cell_type": "code",
   "execution_count": 8,
   "metadata": {},
   "outputs": [
    {
     "data": {
      "text/html": [
       "<div>\n",
       "<style scoped>\n",
       "    .dataframe tbody tr th:only-of-type {\n",
       "        vertical-align: middle;\n",
       "    }\n",
       "\n",
       "    .dataframe tbody tr th {\n",
       "        vertical-align: top;\n",
       "    }\n",
       "\n",
       "    .dataframe thead th {\n",
       "        text-align: right;\n",
       "    }\n",
       "</style>\n",
       "<table border=\"1\" class=\"dataframe\">\n",
       "  <thead>\n",
       "    <tr style=\"text-align: right;\">\n",
       "      <th></th>\n",
       "      <th>index</th>\n",
       "      <th>Map_id</th>\n",
       "      <th>Level_tagging</th>\n",
       "      <th>Num_players_played</th>\n",
       "      <th>Who_cleared_first</th>\n",
       "      <th>Num_attempts</th>\n",
       "      <th>Num_clears</th>\n",
       "      <th>Num_stars</th>\n",
       "      <th>Num_tweets</th>\n",
       "      <th>Clear Rate</th>\n",
       "      <th>Map_title</th>\n",
       "      <th>Difficulty</th>\n",
       "      <th>Game_style</th>\n",
       "      <th>Maker</th>\n",
       "      <th>Creation</th>\n",
       "      <th>Map_image</th>\n",
       "      <th>Map_thumbnail</th>\n",
       "    </tr>\n",
       "  </thead>\n",
       "  <tbody>\n",
       "    <tr>\n",
       "      <th>0</th>\n",
       "      <td>0</td>\n",
       "      <td>C490-0000-0345-F6D8</td>\n",
       "      <td>None</td>\n",
       "      <td>28</td>\n",
       "      <td>None</td>\n",
       "      <td>128</td>\n",
       "      <td>0</td>\n",
       "      <td>0</td>\n",
       "      <td>0</td>\n",
       "      <td>0.00</td>\n",
       "      <td>Woodstock's death pit of death</td>\n",
       "      <td>superExpert</td>\n",
       "      <td>marioBros3</td>\n",
       "      <td>EPIK-Jump-Masta</td>\n",
       "      <td>7/16/2017 12:00:00 AM</td>\n",
       "      <td>https://dypqnhofrd2x2.cloudfront.net/C490-0000...</td>\n",
       "      <td>https://dypqnhofrd2x2.cloudfront.net/C490-0000...</td>\n",
       "    </tr>\n",
       "    <tr>\n",
       "      <th>1</th>\n",
       "      <td>1</td>\n",
       "      <td>6428-0000-0363-B6F9</td>\n",
       "      <td>None</td>\n",
       "      <td>11</td>\n",
       "      <td>SwanDome</td>\n",
       "      <td>46</td>\n",
       "      <td>1</td>\n",
       "      <td>0</td>\n",
       "      <td>0</td>\n",
       "      <td>2.17</td>\n",
       "      <td>Mega Parkour</td>\n",
       "      <td>expert</td>\n",
       "      <td>marioBrosU</td>\n",
       "      <td>caioextremebr135</td>\n",
       "      <td>10/4/2017 12:00:00 AM</td>\n",
       "      <td>https://dypqnhofrd2x2.cloudfront.net/6428-0000...</td>\n",
       "      <td>https://dypqnhofrd2x2.cloudfront.net/6428-0000...</td>\n",
       "    </tr>\n",
       "    <tr>\n",
       "      <th>2</th>\n",
       "      <td>2</td>\n",
       "      <td>6428-0000-0363-B6F9</td>\n",
       "      <td>None</td>\n",
       "      <td>12</td>\n",
       "      <td>SwanDome</td>\n",
       "      <td>55</td>\n",
       "      <td>1</td>\n",
       "      <td>0</td>\n",
       "      <td>0</td>\n",
       "      <td>1.81</td>\n",
       "      <td>Mega Parkour</td>\n",
       "      <td>expert</td>\n",
       "      <td>marioBrosU</td>\n",
       "      <td>caioextremebr135</td>\n",
       "      <td>10/4/2017 12:00:00 AM</td>\n",
       "      <td>https://dypqnhofrd2x2.cloudfront.net/6428-0000...</td>\n",
       "      <td>https://dypqnhofrd2x2.cloudfront.net/6428-0000...</td>\n",
       "    </tr>\n",
       "    <tr>\n",
       "      <th>3</th>\n",
       "      <td>3</td>\n",
       "      <td>C784-0000-0364-6D17</td>\n",
       "      <td>None</td>\n",
       "      <td>11</td>\n",
       "      <td>edidunkan544847</td>\n",
       "      <td>20</td>\n",
       "      <td>1</td>\n",
       "      <td>0</td>\n",
       "      <td>0</td>\n",
       "      <td>5.00</td>\n",
       "      <td>Treasure tracker</td>\n",
       "      <td>normal</td>\n",
       "      <td>marioBros</td>\n",
       "      <td>Mgamer762</td>\n",
       "      <td>10/7/2017 12:00:00 AM</td>\n",
       "      <td>https://dypqnhofrd2x2.cloudfront.net/C784-0000...</td>\n",
       "      <td>https://dypqnhofrd2x2.cloudfront.net/C784-0000...</td>\n",
       "    </tr>\n",
       "    <tr>\n",
       "      <th>4</th>\n",
       "      <td>4</td>\n",
       "      <td>7A04-0000-0364-F2D0</td>\n",
       "      <td>None</td>\n",
       "      <td>13</td>\n",
       "      <td>fabisi07</td>\n",
       "      <td>82</td>\n",
       "      <td>1</td>\n",
       "      <td>0</td>\n",
       "      <td>0</td>\n",
       "      <td>1.21</td>\n",
       "      <td>my third course</td>\n",
       "      <td>expert</td>\n",
       "      <td>marioBrosU</td>\n",
       "      <td>Rico2005</td>\n",
       "      <td>10/8/2017 12:00:00 AM</td>\n",
       "      <td>https://dypqnhofrd2x2.cloudfront.net/7A04-0000...</td>\n",
       "      <td>https://dypqnhofrd2x2.cloudfront.net/7A04-0000...</td>\n",
       "    </tr>\n",
       "    <tr>\n",
       "      <th>...</th>\n",
       "      <td>...</td>\n",
       "      <td>...</td>\n",
       "      <td>...</td>\n",
       "      <td>...</td>\n",
       "      <td>...</td>\n",
       "      <td>...</td>\n",
       "      <td>...</td>\n",
       "      <td>...</td>\n",
       "      <td>...</td>\n",
       "      <td>...</td>\n",
       "      <td>...</td>\n",
       "      <td>...</td>\n",
       "      <td>...</td>\n",
       "      <td>...</td>\n",
       "      <td>...</td>\n",
       "      <td>...</td>\n",
       "      <td>...</td>\n",
       "    </tr>\n",
       "    <tr>\n",
       "      <th>292293</th>\n",
       "      <td>292293</td>\n",
       "      <td>CB75-0000-0351-ACA5</td>\n",
       "      <td>None</td>\n",
       "      <td>20</td>\n",
       "      <td>mccareymcc</td>\n",
       "      <td>27</td>\n",
       "      <td>18</td>\n",
       "      <td>3</td>\n",
       "      <td>0</td>\n",
       "      <td>66.66</td>\n",
       "      <td>Full Automatic+ Splatoon Squid</td>\n",
       "      <td>easy</td>\n",
       "      <td>marioBros</td>\n",
       "      <td>steffihex666</td>\n",
       "      <td>8/12/2017 12:00:00 AM</td>\n",
       "      <td>https://dypqnhofrd2x2.cloudfront.net/CB75-0000...</td>\n",
       "      <td>https://dypqnhofrd2x2.cloudfront.net/CB75-0000...</td>\n",
       "    </tr>\n",
       "    <tr>\n",
       "      <th>292294</th>\n",
       "      <td>292294</td>\n",
       "      <td>9E01-0000-035A-F501</td>\n",
       "      <td>None</td>\n",
       "      <td>21</td>\n",
       "      <td>Gatto82</td>\n",
       "      <td>33</td>\n",
       "      <td>18</td>\n",
       "      <td>3</td>\n",
       "      <td>0</td>\n",
       "      <td>54.54</td>\n",
       "      <td>Riesen Mario</td>\n",
       "      <td>easy</td>\n",
       "      <td>marioBros</td>\n",
       "      <td>benjaminq1</td>\n",
       "      <td>9/4/2017 12:00:00 AM</td>\n",
       "      <td>https://dypqnhofrd2x2.cloudfront.net/9E01-0000...</td>\n",
       "      <td>https://dypqnhofrd2x2.cloudfront.net/9E01-0000...</td>\n",
       "    </tr>\n",
       "    <tr>\n",
       "      <th>292295</th>\n",
       "      <td>292295</td>\n",
       "      <td>7A6B-0000-034D-6103</td>\n",
       "      <td>None</td>\n",
       "      <td>21</td>\n",
       "      <td>iledere</td>\n",
       "      <td>31</td>\n",
       "      <td>18</td>\n",
       "      <td>3</td>\n",
       "      <td>0</td>\n",
       "      <td>58.06</td>\n",
       "      <td>5 FPS 4 WIN[Mini]™©®</td>\n",
       "      <td>easy</td>\n",
       "      <td>marioBrosU</td>\n",
       "      <td>MORRIS-MAXI</td>\n",
       "      <td>8/2/2017 12:00:00 AM</td>\n",
       "      <td>https://dypqnhofrd2x2.cloudfront.net/7A6B-0000...</td>\n",
       "      <td>https://dypqnhofrd2x2.cloudfront.net/7A6B-0000...</td>\n",
       "    </tr>\n",
       "    <tr>\n",
       "      <th>292296</th>\n",
       "      <td>292296</td>\n",
       "      <td>E069-0000-0356-9A48</td>\n",
       "      <td>None</td>\n",
       "      <td>21</td>\n",
       "      <td>revolv23</td>\n",
       "      <td>29</td>\n",
       "      <td>18</td>\n",
       "      <td>3</td>\n",
       "      <td>0</td>\n",
       "      <td>62.06</td>\n",
       "      <td>Super Mario World 1993</td>\n",
       "      <td>easy</td>\n",
       "      <td>marioWorld</td>\n",
       "      <td>Citrusoft</td>\n",
       "      <td>8/24/2017 12:00:00 AM</td>\n",
       "      <td>https://dypqnhofrd2x2.cloudfront.net/E069-0000...</td>\n",
       "      <td>https://dypqnhofrd2x2.cloudfront.net/E069-0000...</td>\n",
       "    </tr>\n",
       "    <tr>\n",
       "      <th>292297</th>\n",
       "      <td>292297</td>\n",
       "      <td>59C9-0000-0351-3799</td>\n",
       "      <td>None</td>\n",
       "      <td>22</td>\n",
       "      <td>alejandro2423</td>\n",
       "      <td>120</td>\n",
       "      <td>18</td>\n",
       "      <td>3</td>\n",
       "      <td>0</td>\n",
       "      <td>15.00</td>\n",
       "      <td>for domtendo</td>\n",
       "      <td>normal</td>\n",
       "      <td>marioBrosU</td>\n",
       "      <td>Luci-Arabella</td>\n",
       "      <td>8/11/2017 12:00:00 AM</td>\n",
       "      <td>https://dypqnhofrd2x2.cloudfront.net/59C9-0000...</td>\n",
       "      <td>https://dypqnhofrd2x2.cloudfront.net/59C9-0000...</td>\n",
       "    </tr>\n",
       "  </tbody>\n",
       "</table>\n",
       "<p>292298 rows × 17 columns</p>\n",
       "</div>"
      ],
      "text/plain": [
       "         index               Map_id Level_tagging  Num_players_played  \\\n",
       "0            0  C490-0000-0345-F6D8          None                  28   \n",
       "1            1  6428-0000-0363-B6F9          None                  11   \n",
       "2            2  6428-0000-0363-B6F9          None                  12   \n",
       "3            3  C784-0000-0364-6D17          None                  11   \n",
       "4            4  7A04-0000-0364-F2D0          None                  13   \n",
       "...        ...                  ...           ...                 ...   \n",
       "292293  292293  CB75-0000-0351-ACA5          None                  20   \n",
       "292294  292294  9E01-0000-035A-F501          None                  21   \n",
       "292295  292295  7A6B-0000-034D-6103          None                  21   \n",
       "292296  292296  E069-0000-0356-9A48          None                  21   \n",
       "292297  292297  59C9-0000-0351-3799          None                  22   \n",
       "\n",
       "       Who_cleared_first  Num_attempts  Num_clears  Num_stars  Num_tweets  \\\n",
       "0                   None           128           0          0           0   \n",
       "1               SwanDome            46           1          0           0   \n",
       "2               SwanDome            55           1          0           0   \n",
       "3        edidunkan544847            20           1          0           0   \n",
       "4               fabisi07            82           1          0           0   \n",
       "...                  ...           ...         ...        ...         ...   \n",
       "292293        mccareymcc            27          18          3           0   \n",
       "292294           Gatto82            33          18          3           0   \n",
       "292295           iledere            31          18          3           0   \n",
       "292296          revolv23            29          18          3           0   \n",
       "292297     alejandro2423           120          18          3           0   \n",
       "\n",
       "        Clear Rate                       Map_title   Difficulty  Game_style  \\\n",
       "0             0.00  Woodstock's death pit of death  superExpert  marioBros3   \n",
       "1             2.17                    Mega Parkour       expert  marioBrosU   \n",
       "2             1.81                    Mega Parkour       expert  marioBrosU   \n",
       "3             5.00                Treasure tracker       normal   marioBros   \n",
       "4             1.21                 my third course       expert  marioBrosU   \n",
       "...            ...                             ...          ...         ...   \n",
       "292293       66.66  Full Automatic+ Splatoon Squid         easy   marioBros   \n",
       "292294       54.54                    Riesen Mario         easy   marioBros   \n",
       "292295       58.06            5 FPS 4 WIN[Mini]™©®         easy  marioBrosU   \n",
       "292296       62.06          Super Mario World 1993         easy  marioWorld   \n",
       "292297       15.00                    for domtendo       normal  marioBrosU   \n",
       "\n",
       "                   Maker               Creation  \\\n",
       "0        EPIK-Jump-Masta  7/16/2017 12:00:00 AM   \n",
       "1       caioextremebr135  10/4/2017 12:00:00 AM   \n",
       "2       caioextremebr135  10/4/2017 12:00:00 AM   \n",
       "3              Mgamer762  10/7/2017 12:00:00 AM   \n",
       "4               Rico2005  10/8/2017 12:00:00 AM   \n",
       "...                  ...                    ...   \n",
       "292293      steffihex666  8/12/2017 12:00:00 AM   \n",
       "292294        benjaminq1   9/4/2017 12:00:00 AM   \n",
       "292295       MORRIS-MAXI   8/2/2017 12:00:00 AM   \n",
       "292296         Citrusoft  8/24/2017 12:00:00 AM   \n",
       "292297     Luci-Arabella  8/11/2017 12:00:00 AM   \n",
       "\n",
       "                                                Map_image  \\\n",
       "0       https://dypqnhofrd2x2.cloudfront.net/C490-0000...   \n",
       "1       https://dypqnhofrd2x2.cloudfront.net/6428-0000...   \n",
       "2       https://dypqnhofrd2x2.cloudfront.net/6428-0000...   \n",
       "3       https://dypqnhofrd2x2.cloudfront.net/C784-0000...   \n",
       "4       https://dypqnhofrd2x2.cloudfront.net/7A04-0000...   \n",
       "...                                                   ...   \n",
       "292293  https://dypqnhofrd2x2.cloudfront.net/CB75-0000...   \n",
       "292294  https://dypqnhofrd2x2.cloudfront.net/9E01-0000...   \n",
       "292295  https://dypqnhofrd2x2.cloudfront.net/7A6B-0000...   \n",
       "292296  https://dypqnhofrd2x2.cloudfront.net/E069-0000...   \n",
       "292297  https://dypqnhofrd2x2.cloudfront.net/59C9-0000...   \n",
       "\n",
       "                                            Map_thumbnail  \n",
       "0       https://dypqnhofrd2x2.cloudfront.net/C490-0000...  \n",
       "1       https://dypqnhofrd2x2.cloudfront.net/6428-0000...  \n",
       "2       https://dypqnhofrd2x2.cloudfront.net/6428-0000...  \n",
       "3       https://dypqnhofrd2x2.cloudfront.net/C784-0000...  \n",
       "4       https://dypqnhofrd2x2.cloudfront.net/7A04-0000...  \n",
       "...                                                   ...  \n",
       "292293  https://dypqnhofrd2x2.cloudfront.net/CB75-0000...  \n",
       "292294  https://dypqnhofrd2x2.cloudfront.net/9E01-0000...  \n",
       "292295  https://dypqnhofrd2x2.cloudfront.net/7A6B-0000...  \n",
       "292296  https://dypqnhofrd2x2.cloudfront.net/E069-0000...  \n",
       "292297  https://dypqnhofrd2x2.cloudfront.net/59C9-0000...  \n",
       "\n",
       "[292298 rows x 17 columns]"
      ]
     },
     "execution_count": 8,
     "metadata": {},
     "output_type": "execute_result"
    }
   ],
   "source": [
    "pd.read_sql(\"\"\"SELECT * FROM cm_courses\"\"\",conn)"
   ]
  },
  {
   "cell_type": "code",
   "execution_count": 9,
   "metadata": {},
   "outputs": [],
   "source": [
    "normal_tagging=pd.read_sql(\"\"\"\n",
    "SELECT *\n",
    "FROM cm_courses\n",
    "WHERE Difficulty LIKE 'Normal'\n",
    "\"\"\",conn)"
   ]
  },
  {
   "cell_type": "code",
   "execution_count": 10,
   "metadata": {},
   "outputs": [
    {
     "data": {
      "text/html": [
       "<div>\n",
       "<style scoped>\n",
       "    .dataframe tbody tr th:only-of-type {\n",
       "        vertical-align: middle;\n",
       "    }\n",
       "\n",
       "    .dataframe tbody tr th {\n",
       "        vertical-align: top;\n",
       "    }\n",
       "\n",
       "    .dataframe thead th {\n",
       "        text-align: right;\n",
       "    }\n",
       "</style>\n",
       "<table border=\"1\" class=\"dataframe\">\n",
       "  <thead>\n",
       "    <tr style=\"text-align: right;\">\n",
       "      <th></th>\n",
       "      <th>index</th>\n",
       "      <th>Map_id</th>\n",
       "      <th>Level_tagging</th>\n",
       "      <th>Num_players_played</th>\n",
       "      <th>Who_cleared_first</th>\n",
       "      <th>Num_attempts</th>\n",
       "      <th>Num_clears</th>\n",
       "      <th>Num_stars</th>\n",
       "      <th>Num_tweets</th>\n",
       "      <th>Clear Rate</th>\n",
       "      <th>Map_title</th>\n",
       "      <th>Difficulty</th>\n",
       "      <th>Game_style</th>\n",
       "      <th>Maker</th>\n",
       "      <th>Creation</th>\n",
       "      <th>Map_image</th>\n",
       "      <th>Map_thumbnail</th>\n",
       "    </tr>\n",
       "  </thead>\n",
       "  <tbody>\n",
       "    <tr>\n",
       "      <th>0</th>\n",
       "      <td>3</td>\n",
       "      <td>C784-0000-0364-6D17</td>\n",
       "      <td>None</td>\n",
       "      <td>11</td>\n",
       "      <td>edidunkan544847</td>\n",
       "      <td>20</td>\n",
       "      <td>1</td>\n",
       "      <td>0</td>\n",
       "      <td>0</td>\n",
       "      <td>5.00</td>\n",
       "      <td>Treasure tracker</td>\n",
       "      <td>normal</td>\n",
       "      <td>marioBros</td>\n",
       "      <td>Mgamer762</td>\n",
       "      <td>10/7/2017 12:00:00 AM</td>\n",
       "      <td>https://dypqnhofrd2x2.cloudfront.net/C784-0000...</td>\n",
       "      <td>https://dypqnhofrd2x2.cloudfront.net/C784-0000...</td>\n",
       "    </tr>\n",
       "    <tr>\n",
       "      <th>1</th>\n",
       "      <td>15</td>\n",
       "      <td>8F5E-0000-030E-D991</td>\n",
       "      <td>None</td>\n",
       "      <td>36</td>\n",
       "      <td>jaime550</td>\n",
       "      <td>80</td>\n",
       "      <td>6</td>\n",
       "      <td>0</td>\n",
       "      <td>0</td>\n",
       "      <td>7.50</td>\n",
       "      <td>UNDERTALE 6</td>\n",
       "      <td>normal</td>\n",
       "      <td>marioBros</td>\n",
       "      <td>legend2122</td>\n",
       "      <td>3/12/2017 12:00:00 AM</td>\n",
       "      <td>https://dypqnhofrd2x2.cloudfront.net/8F5E-0000...</td>\n",
       "      <td>https://dypqnhofrd2x2.cloudfront.net/8F5E-0000...</td>\n",
       "    </tr>\n",
       "    <tr>\n",
       "      <th>2</th>\n",
       "      <td>16</td>\n",
       "      <td>8F5E-0000-030E-D991</td>\n",
       "      <td>None</td>\n",
       "      <td>32</td>\n",
       "      <td>jaime550</td>\n",
       "      <td>73</td>\n",
       "      <td>4</td>\n",
       "      <td>0</td>\n",
       "      <td>0</td>\n",
       "      <td>5.47</td>\n",
       "      <td>UNDERTALE 6</td>\n",
       "      <td>normal</td>\n",
       "      <td>marioBros</td>\n",
       "      <td>legend2122</td>\n",
       "      <td>3/12/2017 12:00:00 AM</td>\n",
       "      <td>https://dypqnhofrd2x2.cloudfront.net/8F5E-0000...</td>\n",
       "      <td>https://dypqnhofrd2x2.cloudfront.net/8F5E-0000...</td>\n",
       "    </tr>\n",
       "    <tr>\n",
       "      <th>3</th>\n",
       "      <td>17</td>\n",
       "      <td>8F5E-0000-030E-D991</td>\n",
       "      <td>None</td>\n",
       "      <td>34</td>\n",
       "      <td>jaime550</td>\n",
       "      <td>77</td>\n",
       "      <td>5</td>\n",
       "      <td>0</td>\n",
       "      <td>0</td>\n",
       "      <td>6.49</td>\n",
       "      <td>UNDERTALE 6</td>\n",
       "      <td>normal</td>\n",
       "      <td>marioBros</td>\n",
       "      <td>legend2122</td>\n",
       "      <td>3/12/2017 12:00:00 AM</td>\n",
       "      <td>https://dypqnhofrd2x2.cloudfront.net/8F5E-0000...</td>\n",
       "      <td>https://dypqnhofrd2x2.cloudfront.net/8F5E-0000...</td>\n",
       "    </tr>\n",
       "    <tr>\n",
       "      <th>4</th>\n",
       "      <td>18</td>\n",
       "      <td>8F5E-0000-030E-D991</td>\n",
       "      <td>None</td>\n",
       "      <td>35</td>\n",
       "      <td>jaime550</td>\n",
       "      <td>79</td>\n",
       "      <td>5</td>\n",
       "      <td>0</td>\n",
       "      <td>0</td>\n",
       "      <td>6.32</td>\n",
       "      <td>UNDERTALE 6</td>\n",
       "      <td>normal</td>\n",
       "      <td>marioBros</td>\n",
       "      <td>legend2122</td>\n",
       "      <td>3/12/2017 12:00:00 AM</td>\n",
       "      <td>https://dypqnhofrd2x2.cloudfront.net/8F5E-0000...</td>\n",
       "      <td>https://dypqnhofrd2x2.cloudfront.net/8F5E-0000...</td>\n",
       "    </tr>\n",
       "    <tr>\n",
       "      <th>...</th>\n",
       "      <td>...</td>\n",
       "      <td>...</td>\n",
       "      <td>...</td>\n",
       "      <td>...</td>\n",
       "      <td>...</td>\n",
       "      <td>...</td>\n",
       "      <td>...</td>\n",
       "      <td>...</td>\n",
       "      <td>...</td>\n",
       "      <td>...</td>\n",
       "      <td>...</td>\n",
       "      <td>...</td>\n",
       "      <td>...</td>\n",
       "      <td>...</td>\n",
       "      <td>...</td>\n",
       "      <td>...</td>\n",
       "      <td>...</td>\n",
       "    </tr>\n",
       "    <tr>\n",
       "      <th>114706</th>\n",
       "      <td>292282</td>\n",
       "      <td>F661-0000-0304-06B5</td>\n",
       "      <td>None</td>\n",
       "      <td>46</td>\n",
       "      <td>Just1nguy</td>\n",
       "      <td>151</td>\n",
       "      <td>17</td>\n",
       "      <td>3</td>\n",
       "      <td>0</td>\n",
       "      <td>11.25</td>\n",
       "      <td>jump and fun</td>\n",
       "      <td>normal</td>\n",
       "      <td>marioBrosU</td>\n",
       "      <td>niklaslukaslaura</td>\n",
       "      <td>2/20/2017 12:00:00 AM</td>\n",
       "      <td>https://dypqnhofrd2x2.cloudfront.net/F661-0000...</td>\n",
       "      <td>https://dypqnhofrd2x2.cloudfront.net/F661-0000...</td>\n",
       "    </tr>\n",
       "    <tr>\n",
       "      <th>114707</th>\n",
       "      <td>292283</td>\n",
       "      <td>FE47-0000-033A-884C</td>\n",
       "      <td>None</td>\n",
       "      <td>48</td>\n",
       "      <td>TOSHI.41</td>\n",
       "      <td>137</td>\n",
       "      <td>17</td>\n",
       "      <td>3</td>\n",
       "      <td>0</td>\n",
       "      <td>12.40</td>\n",
       "      <td>bowsers  höhle               666</td>\n",
       "      <td>normal</td>\n",
       "      <td>marioBrosU</td>\n",
       "      <td>s.sieghold</td>\n",
       "      <td>6/17/2017 12:00:00 AM</td>\n",
       "      <td>https://dypqnhofrd2x2.cloudfront.net/FE47-0000...</td>\n",
       "      <td>https://dypqnhofrd2x2.cloudfront.net/FE47-0000...</td>\n",
       "    </tr>\n",
       "    <tr>\n",
       "      <th>114708</th>\n",
       "      <td>292284</td>\n",
       "      <td>A3FC-0000-0320-6C1A</td>\n",
       "      <td>None</td>\n",
       "      <td>49</td>\n",
       "      <td>ichbin777</td>\n",
       "      <td>103</td>\n",
       "      <td>17</td>\n",
       "      <td>3</td>\n",
       "      <td>0</td>\n",
       "      <td>16.50</td>\n",
       "      <td>Flucht vor Dschinbowser</td>\n",
       "      <td>normal</td>\n",
       "      <td>marioBrosU</td>\n",
       "      <td>lisagolloch</td>\n",
       "      <td>4/11/2017 12:00:00 AM</td>\n",
       "      <td>https://dypqnhofrd2x2.cloudfront.net/A3FC-0000...</td>\n",
       "      <td>https://dypqnhofrd2x2.cloudfront.net/A3FC-0000...</td>\n",
       "    </tr>\n",
       "    <tr>\n",
       "      <th>114709</th>\n",
       "      <td>292288</td>\n",
       "      <td>1131-0000-0303-83DC</td>\n",
       "      <td>None</td>\n",
       "      <td>61</td>\n",
       "      <td>jojo01570</td>\n",
       "      <td>197</td>\n",
       "      <td>17</td>\n",
       "      <td>3</td>\n",
       "      <td>0</td>\n",
       "      <td>8.62</td>\n",
       "      <td>BOWER!</td>\n",
       "      <td>normal</td>\n",
       "      <td>marioBrosU</td>\n",
       "      <td>apnatpoan</td>\n",
       "      <td>2/19/2017 12:00:00 AM</td>\n",
       "      <td>https://dypqnhofrd2x2.cloudfront.net/1131-0000...</td>\n",
       "      <td>https://dypqnhofrd2x2.cloudfront.net/1131-0000...</td>\n",
       "    </tr>\n",
       "    <tr>\n",
       "      <th>114710</th>\n",
       "      <td>292297</td>\n",
       "      <td>59C9-0000-0351-3799</td>\n",
       "      <td>None</td>\n",
       "      <td>22</td>\n",
       "      <td>alejandro2423</td>\n",
       "      <td>120</td>\n",
       "      <td>18</td>\n",
       "      <td>3</td>\n",
       "      <td>0</td>\n",
       "      <td>15.00</td>\n",
       "      <td>for domtendo</td>\n",
       "      <td>normal</td>\n",
       "      <td>marioBrosU</td>\n",
       "      <td>Luci-Arabella</td>\n",
       "      <td>8/11/2017 12:00:00 AM</td>\n",
       "      <td>https://dypqnhofrd2x2.cloudfront.net/59C9-0000...</td>\n",
       "      <td>https://dypqnhofrd2x2.cloudfront.net/59C9-0000...</td>\n",
       "    </tr>\n",
       "  </tbody>\n",
       "</table>\n",
       "<p>114711 rows × 17 columns</p>\n",
       "</div>"
      ],
      "text/plain": [
       "         index               Map_id Level_tagging  Num_players_played  \\\n",
       "0            3  C784-0000-0364-6D17          None                  11   \n",
       "1           15  8F5E-0000-030E-D991          None                  36   \n",
       "2           16  8F5E-0000-030E-D991          None                  32   \n",
       "3           17  8F5E-0000-030E-D991          None                  34   \n",
       "4           18  8F5E-0000-030E-D991          None                  35   \n",
       "...        ...                  ...           ...                 ...   \n",
       "114706  292282  F661-0000-0304-06B5          None                  46   \n",
       "114707  292283  FE47-0000-033A-884C          None                  48   \n",
       "114708  292284  A3FC-0000-0320-6C1A          None                  49   \n",
       "114709  292288  1131-0000-0303-83DC          None                  61   \n",
       "114710  292297  59C9-0000-0351-3799          None                  22   \n",
       "\n",
       "       Who_cleared_first  Num_attempts  Num_clears  Num_stars  Num_tweets  \\\n",
       "0        edidunkan544847            20           1          0           0   \n",
       "1               jaime550            80           6          0           0   \n",
       "2               jaime550            73           4          0           0   \n",
       "3               jaime550            77           5          0           0   \n",
       "4               jaime550            79           5          0           0   \n",
       "...                  ...           ...         ...        ...         ...   \n",
       "114706         Just1nguy           151          17          3           0   \n",
       "114707          TOSHI.41           137          17          3           0   \n",
       "114708         ichbin777           103          17          3           0   \n",
       "114709         jojo01570           197          17          3           0   \n",
       "114710     alejandro2423           120          18          3           0   \n",
       "\n",
       "        Clear Rate                         Map_title Difficulty  Game_style  \\\n",
       "0             5.00                  Treasure tracker     normal   marioBros   \n",
       "1             7.50                       UNDERTALE 6     normal   marioBros   \n",
       "2             5.47                       UNDERTALE 6     normal   marioBros   \n",
       "3             6.49                       UNDERTALE 6     normal   marioBros   \n",
       "4             6.32                       UNDERTALE 6     normal   marioBros   \n",
       "...            ...                               ...        ...         ...   \n",
       "114706       11.25                      jump and fun     normal  marioBrosU   \n",
       "114707       12.40  bowsers  höhle               666     normal  marioBrosU   \n",
       "114708       16.50           Flucht vor Dschinbowser     normal  marioBrosU   \n",
       "114709        8.62                            BOWER!     normal  marioBrosU   \n",
       "114710       15.00                      for domtendo     normal  marioBrosU   \n",
       "\n",
       "                   Maker               Creation  \\\n",
       "0              Mgamer762  10/7/2017 12:00:00 AM   \n",
       "1             legend2122  3/12/2017 12:00:00 AM   \n",
       "2             legend2122  3/12/2017 12:00:00 AM   \n",
       "3             legend2122  3/12/2017 12:00:00 AM   \n",
       "4             legend2122  3/12/2017 12:00:00 AM   \n",
       "...                  ...                    ...   \n",
       "114706  niklaslukaslaura  2/20/2017 12:00:00 AM   \n",
       "114707        s.sieghold  6/17/2017 12:00:00 AM   \n",
       "114708       lisagolloch  4/11/2017 12:00:00 AM   \n",
       "114709         apnatpoan  2/19/2017 12:00:00 AM   \n",
       "114710     Luci-Arabella  8/11/2017 12:00:00 AM   \n",
       "\n",
       "                                                Map_image  \\\n",
       "0       https://dypqnhofrd2x2.cloudfront.net/C784-0000...   \n",
       "1       https://dypqnhofrd2x2.cloudfront.net/8F5E-0000...   \n",
       "2       https://dypqnhofrd2x2.cloudfront.net/8F5E-0000...   \n",
       "3       https://dypqnhofrd2x2.cloudfront.net/8F5E-0000...   \n",
       "4       https://dypqnhofrd2x2.cloudfront.net/8F5E-0000...   \n",
       "...                                                   ...   \n",
       "114706  https://dypqnhofrd2x2.cloudfront.net/F661-0000...   \n",
       "114707  https://dypqnhofrd2x2.cloudfront.net/FE47-0000...   \n",
       "114708  https://dypqnhofrd2x2.cloudfront.net/A3FC-0000...   \n",
       "114709  https://dypqnhofrd2x2.cloudfront.net/1131-0000...   \n",
       "114710  https://dypqnhofrd2x2.cloudfront.net/59C9-0000...   \n",
       "\n",
       "                                            Map_thumbnail  \n",
       "0       https://dypqnhofrd2x2.cloudfront.net/C784-0000...  \n",
       "1       https://dypqnhofrd2x2.cloudfront.net/8F5E-0000...  \n",
       "2       https://dypqnhofrd2x2.cloudfront.net/8F5E-0000...  \n",
       "3       https://dypqnhofrd2x2.cloudfront.net/8F5E-0000...  \n",
       "4       https://dypqnhofrd2x2.cloudfront.net/8F5E-0000...  \n",
       "...                                                   ...  \n",
       "114706  https://dypqnhofrd2x2.cloudfront.net/F661-0000...  \n",
       "114707  https://dypqnhofrd2x2.cloudfront.net/FE47-0000...  \n",
       "114708  https://dypqnhofrd2x2.cloudfront.net/A3FC-0000...  \n",
       "114709  https://dypqnhofrd2x2.cloudfront.net/1131-0000...  \n",
       "114710  https://dypqnhofrd2x2.cloudfront.net/59C9-0000...  \n",
       "\n",
       "[114711 rows x 17 columns]"
      ]
     },
     "execution_count": 10,
     "metadata": {},
     "output_type": "execute_result"
    }
   ],
   "source": [
    "normal_tagging"
   ]
  },
  {
   "cell_type": "code",
   "execution_count": 11,
   "metadata": {},
   "outputs": [
    {
     "data": {
      "text/plain": [
       "Level_tagging\n",
       "Traditional     2839\n",
       "Puzzle          1658\n",
       "Theme           1372\n",
       "Remix            695\n",
       "Costume          606\n",
       "Gimmick          574\n",
       "Music            565\n",
       "Dash             519\n",
       "Speedrun         476\n",
       "Thumbnail        226\n",
       "Yoshi            178\n",
       "Autoscroll       166\n",
       "Automatic        153\n",
       "Shoot-'em-up      85\n",
       "Track             41\n",
       "Name: Level_tagging, dtype: int64"
      ]
     },
     "execution_count": 11,
     "metadata": {},
     "output_type": "execute_result"
    }
   ],
   "source": [
    "normal_tagging.groupby(['Level_tagging'])['Level_tagging'].count().sort_values(ascending=False)"
   ]
  },
  {
   "cell_type": "markdown",
   "metadata": {},
   "source": [
    "<b><i>Maps with the Most Stars (AKA Likes)</i></b>"
   ]
  },
  {
   "cell_type": "code",
   "execution_count": 134,
   "metadata": {},
   "outputs": [
    {
     "data": {
      "text/plain": [
       "Map_id               Map_title                         Game_style\n",
       "140E-0000-0321-38D6  Zelda: Temple Of Courage          marioBros     1257856\n",
       "BAC8-0000-036A-7EE1  [2YMM] Ode to Odyssey             marioBros      256559\n",
       "6442-0000-0349-06A4  ● Tower of challenges 9 ● (new)   marioWorld     189546\n",
       "B68E-0000-036E-0BA8  Blooper's Extraterrestrial Base   marioBros3     108868\n",
       "A16B-0000-0382-F17E  ◆● Cannonball Jumper 2 ●◆         marioBros      108447\n",
       "CA3F-0000-0340-28E0  ◆ Tower of challenges 9 ◆         marioWorld     103923\n",
       "A4E1-0000-038D-0EBC  Marios secret Trainingsparcours   marioWorld      88054\n",
       "5F7E-0000-0378-25C3  QUIZ - Choose the right Helmet!   marioBros3      87588\n",
       "2959-0000-0330-454C  Spiked Stiletto Stomp the Second  marioBros3      71499\n",
       "5AB9-0000-038F-A23E  [Quiz] Look Picture, Choose Item  marioBros3      70399\n",
       "D948-0000-0377-F490  ◆● Cannonball Jumper ●◆           marioBros       70058\n",
       "123A-0000-0348-FAF0  ● Tower of challenges ● (new)     marioWorld      58930\n",
       "062B-0000-0382-E7CC  10K Stars: Crazy Amiibo House     marioBros       52617\n",
       "EEFB-0000-0349-8A66  - STARS RECEIVED -                marioBros       50831\n",
       "09E8-0000-0360-5552  glitch impossible !!!             marioBrosU      48779\n",
       "FA2B-0000-0387-ADB4  - APOLLO 11 -                     marioBros       42774\n",
       "92A4-0000-0313-0C32  Vegas Spring Jump Training Lvl 1  marioBros3      37846\n",
       "7D27-0000-034A-CFF1  Barricade Cave                    marioBros       36289\n",
       "64E5-0000-0346-2789  The GW 24/25 Wiggler Express      marioBros3      33226\n",
       "D64D-0000-0361-D1E2  ♪Freezy Flake Galaxy♪             marioBros3      33190\n",
       "7E74-0000-0357-4E86  ◆Wall Jump Parcour◆               marioBrosU      32660\n",
       "CE94-0000-038F-7559  ◆●Speed run spécial kinoko●◆      marioBrosU      32642\n",
       "A20B-0000-0330-3430  -POUR MES TRENTE MILLES ETOILES-  marioBrosU      27875\n",
       "D04B-0000-0317-C8D3  ◆ Tower of challenges ◆           marioWorld      27855\n",
       "7061-0000-0334-DAD3  - TABLE of CONTENTS -             marioBrosU      26361\n",
       "A542-0000-035D-74DF  glitch sautes sur les Wigglers !  marioWorld      22596\n",
       "CF7A-0000-0348-FE56  ● Tower of challenges 5 ● (new)   marioWorld      20103\n",
       "34F1-0000-0365-FE7C  Little Boo's Outside Playtime     marioBrosU      20092\n",
       "1885-0000-0380-EF47  Metal Mario's Second Star Run!    marioBros       19938\n",
       "9085-0000-038F-A6F7  Mario kart 8 deluxe × désert sec  marioBros       19394\n",
       "B687-0000-0362-1A0F  Pour NicoSug-Thierry-Petripopin♡  marioBrosU      18707\n",
       "DC27-0000-0306-DD2D  Mole Control (For Carlsagan42)    marioWorld      18498\n",
       "5D3D-0000-0378-2C1C  Metal Mario's Star Run!           marioBros       17208\n",
       "0164-0000-0380-E7FA  GLITCH - FLOATING ENNEMIES !!!    marioWorld      16244\n",
       "7EC2-0000-035D-A325  Run winggler et bloup♡♥           marioBrosU      16219\n",
       "3FFC-0000-0355-E3A5  ♪I Really Like You♪               marioBros3      15764\n",
       "EC5C-0000-038F-7B8F  ~Pour Papounet-daniel et Felix~   marioWorld      15373\n",
       "6597-0000-0354-33CD  Daxton5&J Volcano Lava            marioBros       14941\n",
       "6F83-0000-035B-2A9A  glitch les Wigglers qui bugs !!!  marioWorld      14180\n",
       "2ADA-0000-0325-8A89  Boom! Bombastic Adventure! 2      marioBros       13558\n",
       "0479-0000-0364-BF71  MARK'S KARMA CRASH COURSE         marioBros       13420\n",
       "D26A-0000-0371-E5F1  ♥Mario Kart 8 deluxe♥             marioBros       12473\n",
       "D114-0000-0378-2E2C  Link's Temple of 17 Challenges    marioBros       11912\n",
       "A24B-0000-0388-A549  Speed Run [ 70 secondes ]         marioBrosU      11496\n",
       "B8F3-0000-0331-2BE5  Infiltrate Facility X-3           marioBros       11186\n",
       "F4B9-0000-034F-3B21  Whacky White World                marioBros3      11120\n",
       "9F12-0000-0329-AD85  Challenge Accepted #3 : Easy      marioWorld      10638\n",
       "C7B2-0000-0306-DD41  Kitty's Mirror House              marioBros       10383\n",
       "33FC-0000-0383-9D7E  [PPP] Moonlit Musical Manor       marioBros3      10224\n",
       "FF31-0000-0389-A687  Old School                        marioBros        9619\n",
       "Name: Num_stars, dtype: int64"
      ]
     },
     "execution_count": 134,
     "metadata": {},
     "output_type": "execute_result"
    }
   ],
   "source": [
    "normal_tagging.groupby(['Map_id','Map_title','Game_style'])['Num_stars'].sum().sort_values(ascending=False).head(50)"
   ]
  },
  {
   "cell_type": "markdown",
   "metadata": {},
   "source": [
    "<b><i>Most Attempted Game Style</i></b>"
   ]
  },
  {
   "cell_type": "code",
   "execution_count": 60,
   "metadata": {},
   "outputs": [
    {
     "data": {
      "text/plain": [
       "Game_style\n",
       "marioBros     47933797\n",
       "marioBrosU    19584017\n",
       "marioWorld    14347985\n",
       "marioBros3    10546213\n",
       "Name: Num_attempts, dtype: int64"
      ]
     },
     "execution_count": 60,
     "metadata": {},
     "output_type": "execute_result"
    }
   ],
   "source": [
    "normal_tagging.groupby(['Game_style'])['Num_attempts'].sum().sort_values(ascending=False)"
   ]
  },
  {
   "cell_type": "markdown",
   "metadata": {},
   "source": [
    "<b><i>Game Style with the Most Created Maps</i></b>"
   ]
  },
  {
   "cell_type": "code",
   "execution_count": 62,
   "metadata": {},
   "outputs": [
    {
     "data": {
      "text/plain": [
       "Game_style\n",
       "marioBrosU    55261\n",
       "marioBros     27297\n",
       "marioWorld    20450\n",
       "marioBros3    11703\n",
       "Name: Map_id, dtype: int64"
      ]
     },
     "execution_count": 62,
     "metadata": {},
     "output_type": "execute_result"
    }
   ],
   "source": [
    "normal_tagging.groupby(['Game_style'])['Map_id'].count().sort_values(ascending=False)"
   ]
  },
  {
   "cell_type": "markdown",
   "metadata": {},
   "source": [
    "<b><i>Which Player had the greatest number of \"first clears\"?</i></b>"
   ]
  },
  {
   "cell_type": "code",
   "execution_count": 12,
   "metadata": {},
   "outputs": [],
   "source": [
    "first_clear_players=normal_tagging.groupby(['Who_cleared_first'])['Map_id'].count().sort_values(ascending=False).head(25)"
   ]
  },
  {
   "cell_type": "code",
   "execution_count": 13,
   "metadata": {},
   "outputs": [],
   "source": [
    "fcp=first_clear_players"
   ]
  },
  {
   "cell_type": "code",
   "execution_count": 14,
   "metadata": {},
   "outputs": [
    {
     "data": {
      "image/png": "[encoded data removed]",
      "text/plain": [
       "<Figure size 1440x1080 with 1 Axes>"
      ]
     },
     "metadata": {
      "needs_background": "light"
     },
     "output_type": "display_data"
    }
   ],
   "source": [
    "fcp.plot(kind=\"barh\", figsize=(20,15));\n",
    "\n",
    "plt.rcParams['font.size']='20'\n",
    "plt.xlabel('Number of Maps the Player Cleared First')\n",
    "plt.ylabel('Player Name')\n",
    "\n",
    "plt.title('Which Player Cleared the Most Maps First?')\n",
    "\n",
    "plt.show()"
   ]
  },
  {
   "cell_type": "markdown",
   "metadata": {},
   "source": [
    "<div style=\"text-align:right\"><a href = \"#Directory\">Directory</a></div>"
   ]
  },
  {
   "cell_type": "markdown",
   "metadata": {},
   "source": [
    "<h3><b><i>\"Easy\" Difficulty</i></b></h3>"
   ]
  },
  {
   "cell_type": "code",
   "execution_count": 15,
   "metadata": {},
   "outputs": [],
   "source": [
    "easy_diff=pd.read_sql(\"\"\"\n",
    "\n",
    "SELECT *\n",
    "FROM c_plays\n",
    "WHERE Difficulty LIKE \"easy\"\n",
    "\n",
    "\"\"\",conn)"
   ]
  },
  {
   "cell_type": "code",
   "execution_count": 16,
   "metadata": {},
   "outputs": [],
   "source": [
    "easy_tagging=pd.read_sql(\"\"\"\n",
    "SELECT *\n",
    "FROM cm_courses\n",
    "WHERE Difficulty LIKE 'easy'\n",
    "\"\"\",conn)"
   ]
  },
  {
   "cell_type": "markdown",
   "metadata": {},
   "source": [
    "<b><i>Maps with the greatest number of play for \"easy\" level of difficulty</i><b>"
   ]
  },
  {
   "cell_type": "code",
   "execution_count": 17,
   "metadata": {},
   "outputs": [
    {
     "data": {
      "text/plain": [
       "Map_id               Map_title                       \n",
       "8F40-0000-0391-4B50  ■◆Speed run pour mes amis◆■         1014\n",
       "0712-0000-0357-84B1  Stoneman 2: Stoneman's Revenge       715\n",
       "4935-0000-0376-984D  5000 Stars Celebration - Auto        688\n",
       "D00C-0000-038C-FCD0  ♪Mario kart 8 × Zelda♪               649\n",
       "CA3C-0000-0365-F44C  Watch The Clock [Puzzle]             638\n",
       "00C4-0000-0375-FD8E  ♪Despacito♪ChristmasEdition.WALK     538\n",
       "3537-0000-038D-8BA8  DDLC: ♪Your Reality♪                 530\n",
       "A206-0000-0342-CCE7  ♪ 9th Symphony of Beethoven ♪        514\n",
       "C8B1-0000-038E-7B75  MON IDOLE FREDERIC FRANCOIS♡♡♡       472\n",
       "F850-0000-037D-54D2  Some Players I Want to Thank         461\n",
       "0D95-0000-0381-CC36  Owl City - Good Time♪                409\n",
       "D849-0000-0323-4B24  Baby Boo - Auto                      405\n",
       "B8E1-0000-0363-C08C  My Fav. Mathematician Ramanujan      386\n",
       "3CF6-0000-032F-14A1  Pajama Time Ness - Auto              380\n",
       "316A-0000-038C-66C3  POUR MES AMIS 2 merci beaucoup♡♥     374\n",
       "B504-0000-034B-6529  Yoshi's Adventure: The Happiness     350\n",
       "DF83-0000-0386-D8A0  SMB3 Warp Zone Remix♪                347\n",
       "B457-0000-038F-729F  LES SUCCÈS DE FREDERIC FRANÇOIS♡     323\n",
       "84AB-0000-035B-D097  WHAT? #2                             320\n",
       "7F7D-0000-033E-CD9A  DeeDee's Quest Star World 3          307\n",
       "E490-0000-038E-7C0F  New Super Mario Bros.2 W1-1/3DS      291\n",
       "D43E-0000-038F-80D7  RUN carapace Maxence{mon Ami}        285\n",
       "15C0-0000-0339-C346  BOWSER: Home Sweet Home              284\n",
       "5A5F-0000-0357-0784  Walk in the Park                     277\n",
       "283C-0000-036F-FCFD  ♪Feliz Navidad♪                      268\n",
       "Name: Difficulty, dtype: int64"
      ]
     },
     "execution_count": 17,
     "metadata": {},
     "output_type": "execute_result"
    }
   ],
   "source": [
    "easy_diff.groupby(['Map_id','Map_title'])['Difficulty'].count().nlargest(25)"
   ]
  },
  {
   "cell_type": "markdown",
   "metadata": {},
   "source": [
    "<b><i>What tags are used most often?</i></b>"
   ]
  },
  {
   "cell_type": "code",
   "execution_count": 18,
   "metadata": {},
   "outputs": [
    {
     "data": {
      "text/plain": [
       "Level_tagging\n",
       "Music           1271\n",
       "Traditional      767\n",
       "Theme            376\n",
       "Speedrun         365\n",
       "Gimmick          294\n",
       "Puzzle           291\n",
       "Automatic        275\n",
       "Remix            173\n",
       "Costume          129\n",
       "Thumbnail         87\n",
       "Dash              84\n",
       "Shoot-'em-up      58\n",
       "Autoscroll        54\n",
       "Yoshi             53\n",
       "Name: Level_tagging, dtype: int64"
      ]
     },
     "execution_count": 18,
     "metadata": {},
     "output_type": "execute_result"
    }
   ],
   "source": [
    "easy_tagging.groupby(['Level_tagging'])['Level_tagging'].count().sort_values(ascending=False)"
   ]
  },
  {
   "cell_type": "markdown",
   "metadata": {},
   "source": [
    "<b><i>Maps with the Most Stars (AKA Likes)</i></b>"
   ]
  },
  {
   "cell_type": "code",
   "execution_count": 19,
   "metadata": {},
   "outputs": [
    {
     "data": {
      "text/plain": [
       "Map_id               Map_title                         Game_style\n",
       "6B04-0000-0315-CC87  Mario Kart - Jungle Rouble        marioBros     446976\n",
       "6F7D-0000-0367-3858  glitch texture + canon !!!        marioBrosU     84942\n",
       "07A4-0000-0361-B438  glitch Goomba's shoe bug !!!      marioBros      65980\n",
       "75FE-0000-0360-7A1D  glitch Goomba bug !!!             marioBrosU     57403\n",
       "019F-0000-0360-0B20  glitch illusion !!!               marioBrosU     54081\n",
       "7A3E-0000-035D-D13A  glitch mini Muncher + Pow bug !!  marioWorld     49516\n",
       "DF83-0000-0386-D8A0  SMB3 Warp Zone Remix♪             marioBros3     44550\n",
       "7BD4-0000-035C-A136  glitchs sound bug & lava bug !!!  marioBrosU     42703\n",
       "5DC6-0000-035E-E665  glitch Frère Marto qui bug !!!    marioBrosU     41408\n",
       "9146-0000-0377-18DE  Drop the Beat Guess the Band      marioBros3     32444\n",
       "D849-0000-0323-4B24  Baby Boo - Auto                   marioBrosU     28148\n",
       "3CF6-0000-032F-14A1  Pajama Time Ness - Auto           marioBros      27382\n",
       "C531-0000-036A-6444  ♪SM Odyssey~Jump Up, Superstar♪   marioBrosU     25862\n",
       "0712-0000-0357-84B1  Stoneman 2: Stoneman's Revenge    marioBros      22397\n",
       "4935-0000-0376-984D  5000 Stars Celebration - Auto     marioBrosU     22333\n",
       "D00C-0000-038C-FCD0  ♪Mario kart 8 × Zelda♪            marioBrosU     21536\n",
       "6353-0000-035B-D3F6  glitch Bowser crache des Wiggler  marioBros      21367\n",
       "8F40-0000-0391-4B50  ■◆Speed run pour mes amis◆■       marioBrosU     18766\n",
       "3537-0000-038D-8BA8  DDLC: ♪Your Reality♪              marioBros3     16524\n",
       "A206-0000-0342-CCE7  ♪ 9th Symphony of Beethoven ♪     marioWorld     16148\n",
       "00C4-0000-0375-FD8E  ♪Despacito♪ChristmasEdition.WALK  marioBrosU     13678\n",
       "5804-0000-031B-C47D  YT: BlueX2 MARIO MAKER Gameplays  marioWorld     13574\n",
       "316A-0000-038C-66C3  POUR MES AMIS 2 merci beaucoup♡♥  marioBros3     12847\n",
       "F850-0000-037D-54D2  Some Players I Want to Thank      marioBrosU     11929\n",
       "176C-0000-0358-B3CB  ♪Gerudo Valley♪ Legend Of Zelda   marioBros      11081\n",
       "5A5F-0000-0357-0784  Walk in the Park                  marioBros3     10521\n",
       "0D95-0000-0381-CC36  Owl City - Good Time♪             marioWorld     10481\n",
       "CED7-0000-0355-0D3E  ● Propeller/Walljump Parcours ●   marioBrosU     10315\n",
       "B8E1-0000-0363-C08C  My Fav. Mathematician Ramanujan   marioBros      10215\n",
       "B25A-0000-036B-73ED  Yu Ayasakis JAMPtastic Adventure  marioBros       9951\n",
       "2B74-0000-0359-FC38  glitch Bowser traverse le mur !!  marioBros       9775\n",
       "A276-0000-035B-632C  Super clown car glitchs castle !  marioBros3      9274\n",
       "1269-0000-0329-F4EC  GLITCH-Bowser Walks In A Void !!  marioWorld      8755\n",
       "E490-0000-038E-7C0F  New Super Mario Bros.2 W1-1/3DS   marioBrosU      8347\n",
       "283C-0000-036F-FCFD  ♪Feliz Navidad♪                   marioBros       8318\n",
       "B457-0000-038F-729F  LES SUCCÈS DE FREDERIC FRANÇOIS♡  marioWorld      8221\n",
       "DF48-0000-0361-B3FE  ending glitch !!!                 marioBros3      8029\n",
       "7AA7-0000-035B-5886  glitch traverse la Clown Car !!!  marioBrosU      7922\n",
       "87B5-0000-0328-4FD3  Mario Kart: Castle Mayhem!        marioBros       7546\n",
       "DF06-0000-030B-E480  When Toad was a Toddler - Auto    marioBrosU      7464\n",
       "CA3C-0000-0365-F44C  Watch The Clock [Puzzle]          marioBros       7401\n",
       "177E-0000-0306-9649  Gonna go POW somewhere else. 2    marioBros       7314\n",
       "0E7E-0000-0368-554D  L aquarium de Carole et Mario♡♥♡  marioBrosU      6842\n",
       "D36D-0000-033A-B097  merci pour mes étoiles j'ai 2902  marioBrosU      6457\n",
       "C8B1-0000-038E-7B75  MON IDOLE FREDERIC FRANCOIS♡♡♡    marioBrosU      6437\n",
       "601E-0000-0383-4D72  ◆●Mario Tennis Aces●◆             marioBrosU      6394\n",
       "B5F3-0000-031E-0F1F  Mario Kart: Underground Jam!      marioBros       6201\n",
       "6A9B-0000-0315-D883  Zelda: The Dark Palace            marioBros       6021\n",
       "15ED-0000-0361-48FE  ●WallJump cave●(bit tougher ver)  marioBrosU      5881\n",
       "B504-0000-034B-6529  Yoshi's Adventure: The Happiness  marioBros       5692\n",
       "Name: Num_stars, dtype: int64"
      ]
     },
     "execution_count": 19,
     "metadata": {},
     "output_type": "execute_result"
    }
   ],
   "source": [
    "easy_tagging.groupby(['Map_id','Map_title','Game_style'])['Num_stars'].sum().sort_values(ascending=False).head(50)"
   ]
  },
  {
   "cell_type": "markdown",
   "metadata": {},
   "source": [
    "<b><i>Most Attempted Game Style</i></b>"
   ]
  },
  {
   "cell_type": "code",
   "execution_count": 80,
   "metadata": {},
   "outputs": [
    {
     "data": {
      "text/plain": [
       "Game_style\n",
       "marioBrosU    8986699\n",
       "marioBros     8553367\n",
       "marioWorld    2068214\n",
       "marioBros3    1433805\n",
       "Name: Num_attempts, dtype: int64"
      ]
     },
     "execution_count": 80,
     "metadata": {},
     "output_type": "execute_result"
    }
   ],
   "source": [
    "easy_tagging.groupby(['Game_style'])['Num_attempts'].sum().sort_values(ascending=False)"
   ]
  },
  {
   "cell_type": "markdown",
   "metadata": {},
   "source": [
    "<b><i>Game Style with the Most Created Maps</i></b>"
   ]
  },
  {
   "cell_type": "code",
   "execution_count": 82,
   "metadata": {},
   "outputs": [
    {
     "data": {
      "text/plain": [
       "Game_style\n",
       "marioBrosU    35213\n",
       "marioBros     21817\n",
       "marioWorld     9605\n",
       "marioBros3     5388\n",
       "Name: Map_id, dtype: int64"
      ]
     },
     "execution_count": 82,
     "metadata": {},
     "output_type": "execute_result"
    }
   ],
   "source": [
    "easy_tagging.groupby(['Game_style'])['Map_id'].count().sort_values(ascending=False)"
   ]
  },
  {
   "cell_type": "markdown",
   "metadata": {},
   "source": [
    "<b><i>Which Player had the greatest number of \"first clears\"?</i></b>"
   ]
  },
  {
   "cell_type": "code",
   "execution_count": 20,
   "metadata": {},
   "outputs": [],
   "source": [
    "first_clear_players_easy=easy_tagging.groupby(['Who_cleared_first'])['Map_id'].count().sort_values(ascending=False).head(25)"
   ]
  },
  {
   "cell_type": "code",
   "execution_count": 21,
   "metadata": {},
   "outputs": [],
   "source": [
    "fcpe=first_clear_players_easy"
   ]
  },
  {
   "cell_type": "code",
   "execution_count": 22,
   "metadata": {},
   "outputs": [
    {
     "data": {
      "text/plain": [
       "Who_cleared_first\n",
       "dellbox2            1623\n",
       "AE4WiiU              638\n",
       "nekokanu             497\n",
       "Dinghy2              318\n",
       "revolv23             314\n",
       "umecchi              293\n",
       "Cubeguy21            250\n",
       "DonTheGrizzlyMan     234\n",
       "EvanFedak            223\n",
       "Gorfan               207\n",
       "RURI333HRIRU777H     204\n",
       "fujimoch_u           198\n",
       "tmons78              191\n",
       "zaretter             184\n",
       "Bloorose             178\n",
       "Carter-evans10       178\n",
       "TOSHI.41             163\n",
       "splatoune2.0         145\n",
       "1824KSMARE           138\n",
       "Mario1UPkoopa        129\n",
       "Lazenator            127\n",
       "PONveruta            125\n",
       "sharionh             121\n",
       "Sauron17             116\n",
       "Tylano64             110\n",
       "Name: Map_id, dtype: int64"
      ]
     },
     "execution_count": 22,
     "metadata": {},
     "output_type": "execute_result"
    }
   ],
   "source": [
    "fcpe"
   ]
  },
  {
   "cell_type": "code",
   "execution_count": 23,
   "metadata": {},
   "outputs": [
    {
     "data": {
      "image/png": "[encoded data removed]",
      "text/plain": [
       "<Figure size 1440x1080 with 1 Axes>"
      ]
     },
     "metadata": {
      "needs_background": "light"
     },
     "output_type": "display_data"
    }
   ],
   "source": [
    "fcpe.plot(kind=\"barh\", figsize=(20,15));\n",
    "\n",
    "plt.rcParams['font.size']='20'\n",
    "plt.xlabel('Number of Maps the Player Cleared First')\n",
    "plt.ylabel('Player Name')\n",
    "\n",
    "plt.title('Which Player Cleared the Most Maps First for Easy Level of Difficulty?')\n",
    "\n",
    "plt.show()"
   ]
  },
  {
   "cell_type": "markdown",
   "metadata": {},
   "source": [
    "<div style=\"text-align:right\"><a href = \"#Directory\">Directory</a></div>"
   ]
  },
  {
   "cell_type": "markdown",
   "metadata": {},
   "source": [
    "<h3><b><i>\"Expert\" Difficulty</i></b></h3>"
   ]
  },
  {
   "cell_type": "code",
   "execution_count": 24,
   "metadata": {},
   "outputs": [],
   "source": [
    "expert_diff=pd.read_sql(\"\"\"\n",
    "\n",
    "SELECT *\n",
    "FROM c_plays\n",
    "WHERE Difficulty LIKE \"expert\"\n",
    "\n",
    "\"\"\",conn)"
   ]
  },
  {
   "cell_type": "code",
   "execution_count": 25,
   "metadata": {},
   "outputs": [],
   "source": [
    "expert_tagging=pd.read_sql(\"\"\"\n",
    "SELECT *\n",
    "FROM cm_courses\n",
    "WHERE Difficulty LIKE 'expert'\n",
    "\"\"\",conn)"
   ]
  },
  {
   "cell_type": "markdown",
   "metadata": {},
   "source": [
    "<b><i>Maps with the greatest number of play</i><b>"
   ]
  },
  {
   "cell_type": "code",
   "execution_count": 26,
   "metadata": {},
   "outputs": [
    {
     "data": {
      "text/plain": [
       "Map_id               Map_title                       \n",
       "F44D-0000-035E-496C  [2YMM] In Muris Occulta             1143\n",
       "67CF-0000-035F-BC1D  The Kindly Marked Troll Level        966\n",
       "596A-0000-0375-6596  W10~ Blackcherry Mines               873\n",
       "9767-0000-0329-7ACE  Pennywise's Level for Children       830\n",
       "9C75-0000-0362-33D2  [2YMM] Pipe Connection Issues        741\n",
       "FF30-0000-034F-2967  SMW Remix: Castle #6                 702\n",
       "F063-0000-0368-BB3E  [HĄŁŁ♥WĘĘŇ]  4 Spðφky Sącrıfıcęs     684\n",
       "C989-0000-0361-C805  Wii U - VIRUS -                      679\n",
       "F898-0000-0382-E5FE  [PPP] Pen & Paper Pyramid            673\n",
       "8157-0000-038E-4B85  Floor is nada                        647\n",
       "F13E-0000-0360-FB47  Forgotten Fortress                   636\n",
       "30F3-0000-0386-19B9  Beetles in Paris                     602\n",
       "0230-0000-0386-B51F  The Blooper Booper!                  592\n",
       "790A-0000-038D-B2FE  Burn them moles [40]                 579\n",
       "9FC1-0000-033D-EEA1  Mario Kart DELUXE?!?                 576\n",
       "8A10-0000-0359-3AC2  - SUPER MARIO MAKER -                515\n",
       "5643-0000-0359-7847  Proper Kaizo Training                489\n",
       "0ADD-0000-036A-E2D2  Kaizo Basics 3. Shell Jump X5.       487\n",
       "73CC-0000-038E-8074  Défi surprise ? ~Pour les amis~      459\n",
       "4A9F-0000-038D-7095  SMB-The Lost Levels World A-1        450\n",
       "CFD6-0000-038E-13C7  Donut Land                           447\n",
       "CCF0-0000-0378-A1B0  Crumbling caves                      429\n",
       "7A9A-0000-0387-10B2  Mario chaussure à son pied 2         428\n",
       "41B1-0000-0369-9D39  [MMC] Failstream's Final Fright      419\n",
       "49DE-0000-0349-F098  Sheik's Shell Sprint (30s)           419\n",
       "Name: Difficulty, dtype: int64"
      ]
     },
     "execution_count": 26,
     "metadata": {},
     "output_type": "execute_result"
    }
   ],
   "source": [
    "expert_diff.groupby(['Map_id','Map_title'])['Difficulty'].count().nlargest(25)"
   ]
  },
  {
   "cell_type": "markdown",
   "metadata": {},
   "source": [
    "<b><i>What tags are used most often?</i></b>"
   ]
  },
  {
   "cell_type": "code",
   "execution_count": 27,
   "metadata": {},
   "outputs": [
    {
     "data": {
      "text/plain": [
       "Level_tagging\n",
       "Traditional     2241\n",
       "Theme           2143\n",
       "Puzzle          2048\n",
       "Speedrun        1766\n",
       "Gimmick         1031\n",
       "Remix            727\n",
       "Dash             384\n",
       "Autoscroll       283\n",
       "Costume          252\n",
       "Music            186\n",
       "Thumbnail        124\n",
       "Track            115\n",
       "Yoshi             99\n",
       "Shoot-'em-up      89\n",
       "Automatic         27\n",
       "Name: Level_tagging, dtype: int64"
      ]
     },
     "execution_count": 27,
     "metadata": {},
     "output_type": "execute_result"
    }
   ],
   "source": [
    "expert_tagging.groupby(['Level_tagging'])['Level_tagging'].count().sort_values(ascending=False)"
   ]
  },
  {
   "cell_type": "markdown",
   "metadata": {},
   "source": [
    "<b><i>Maps with the Most Stars (AKA Likes)</i></b>"
   ]
  },
  {
   "cell_type": "code",
   "execution_count": 28,
   "metadata": {},
   "outputs": [
    {
     "data": {
      "text/plain": [
       "Map_id               Map_title                         Game_style\n",
       "9FC1-0000-033D-EEA1  Mario Kart DELUXE?!?              marioBros     555600\n",
       "632D-0000-0329-503E  Kaizo Training!                   marioWorld    295487\n",
       "F44D-0000-035E-496C  [2YMM] In Muris Occulta           marioBros     187785\n",
       "9C75-0000-0362-33D2  [2YMM] Pipe Connection Issues     marioWorld    173251\n",
       "3373-0000-0306-81B8  Propeller Mushroom Parkour        marioBrosU    126953\n",
       "D6A9-0000-034A-58F0  Training: Kaizo-Cave Challenges!  marioWorld     74586\n",
       "67CF-0000-035F-BC1D  The Kindly Marked Troll Level     marioBros      65668\n",
       "F063-0000-0368-BB3E  [HĄŁŁ♥WĘĘŇ]  4 Spðφky Sącrıfıcęs  marioWorld     59176\n",
       "C989-0000-0361-C805  Wii U - VIRUS -                   marioBros3     52834\n",
       "7C3B-0000-0334-80E7  StreetPass Castle                 marioBrosU     51827\n",
       "5DF0-0000-031D-6CA5  Kaizo Training for Beginners      marioBrosU     48691\n",
       "8A10-0000-0359-3AC2  - SUPER MARIO MAKER -             marioBrosU     45058\n",
       "40A4-0000-0337-5CC9  Wii U - VIRUS -                   marioBros3     40703\n",
       "5151-0000-036E-0BC9  Jungle Race 30sec                 marioBros      37741\n",
       "F898-0000-0382-E5FE  [PPP] Pen & Paper Pyramid         marioBros3     34525\n",
       "DD8E-0000-030E-D85B  To Kill A Mechabirdo              marioBros3     34302\n",
       "0B41-0000-035B-5DAB  ▲ A View to a Despawn ▼           marioWorld     32841\n",
       "B1DF-0000-035F-7068  [2YMM] Unseparate Birdo & Yoshi!  marioBros      31522\n",
       "3F3D-0000-0306-DD19  Platform Panic                    marioWorld     25075\n",
       "279B-0000-0327-1ED9  Kaizo College Item Jumps Update   marioWorld     24305\n",
       "8157-0000-038E-4B85  Floor is nada                     marioBros      23261\n",
       "3D4B-0000-035A-108F  You've Met With A Terrible Fate   marioBros      23124\n",
       "31D4-0000-0324-3134  τнε τнιRτεεη αLιεη  нιεRοGLYρнς   marioBros3     19604\n",
       "FF30-0000-034F-2967  SMW Remix: Castle #6              marioWorld     18977\n",
       "0230-0000-0386-B51F  The Blooper Booper!               marioBros      18394\n",
       "596A-0000-0375-6596  W10~ Blackcherry Mines            marioWorld     18143\n",
       "CCF0-0000-0378-A1B0  Crumbling caves                   marioWorld     16915\n",
       "9767-0000-0329-7ACE  Pennywise's Level for Children    marioBros      16572\n",
       "41B1-0000-0369-9D39  [MMC] Failstream's Final Fright   marioBros      16543\n",
       "CFD6-0000-038E-13C7  Donut Land                        marioBros      14263\n",
       "6E43-0000-0355-7AF0  Pour le groupe trés fidèle MERCI  marioBrosU     12832\n",
       "D054-0000-0359-389C  - GREGORY the BEST -              marioBrosU     12179\n",
       "0256-0000-033A-482A  [SDB] C-2 That Ceiling Feeling    marioBros      11982\n",
       "CE2A-0000-032F-BF21  Challenge Accepted #4 : Bosses    marioBros3     11888\n",
       "CBA0-0000-0302-B238  Spin On Spiny Sanctuary           marioWorld     10905\n",
       "7A9A-0000-0387-10B2  Mario chaussure à son pied 2      marioBros      10689\n",
       "F08F-0000-038D-70AC  SMB-The Lost Levels World 8-1     marioBros      10312\n",
       "D3A0-0000-033D-FB61  Only For You – Thanks             marioBrosU      9822\n",
       "03F6-0000-0380-D013  Can Can (Music Level/Speedrun)    marioWorld      9688\n",
       "8F20-0000-036E-3FE6  New Koopa Trick (7s)              marioWorld      9632\n",
       "790A-0000-038D-B2FE  Burn them moles [40]              marioBrosU      9483\n",
       "B381-0000-034D-2C7B  LSB: Spiny Level (DQ)             marioBros       9181\n",
       "4AE7-0000-0378-8A04  Zelda: Palace of Twilight         marioBros       8775\n",
       "4A9F-0000-038D-7095  SMB-The Lost Levels World A-1     marioBros       8731\n",
       "73CC-0000-038E-8074  Défi surprise ? ~Pour les amis~   marioBrosU      7896\n",
       "ADE3-0000-0389-24A6  ● Platform Cave ●                 marioBros       7777\n",
       "634A-0000-0341-63EA  [SDB] C-1 Chekhov's Door          marioBros       7640\n",
       "F13E-0000-0360-FB47  Forgotten Fortress                marioWorld      7636\n",
       "F74D-0000-0300-4F11  Big Bad Boos                      marioBros3      7482\n",
       "8EA6-0000-032D-7669  W6~ Kiwi Plaza 2                  marioWorld      7465\n",
       "Name: Num_stars, dtype: int64"
      ]
     },
     "execution_count": 28,
     "metadata": {},
     "output_type": "execute_result"
    }
   ],
   "source": [
    "expert_tagging.groupby(['Map_id','Map_title','Game_style'])['Num_stars'].sum().sort_values(ascending=False).head(50)"
   ]
  },
  {
   "cell_type": "markdown",
   "metadata": {},
   "source": [
    "<b><i>Most Attempted Game Style</i></b>"
   ]
  },
  {
   "cell_type": "code",
   "execution_count": 29,
   "metadata": {},
   "outputs": [
    {
     "data": {
      "text/plain": [
       "Game_style\n",
       "marioBros     55206614\n",
       "marioWorld    36572154\n",
       "marioBrosU    22500817\n",
       "marioBros3     9720468\n",
       "Name: Num_attempts, dtype: int64"
      ]
     },
     "execution_count": 29,
     "metadata": {},
     "output_type": "execute_result"
    }
   ],
   "source": [
    "expert_tagging.groupby(['Game_style'])['Num_attempts'].sum().sort_values(ascending=False)"
   ]
  },
  {
   "cell_type": "markdown",
   "metadata": {},
   "source": [
    "<b><i>Game Style with the Most Created Maps</i></b>"
   ]
  },
  {
   "cell_type": "code",
   "execution_count": 30,
   "metadata": {},
   "outputs": [
    {
     "data": {
      "text/plain": [
       "Game_style\n",
       "marioBrosU    30056\n",
       "marioWorld    21587\n",
       "marioBros     16131\n",
       "marioBros3     8838\n",
       "Name: Map_id, dtype: int64"
      ]
     },
     "execution_count": 30,
     "metadata": {},
     "output_type": "execute_result"
    }
   ],
   "source": [
    "expert_tagging.groupby(['Game_style'])['Map_id'].count().sort_values(ascending=False)"
   ]
  },
  {
   "cell_type": "markdown",
   "metadata": {},
   "source": [
    "<b><i>Which Player had the greatest number of \"first clears\"?</i></b>"
   ]
  },
  {
   "cell_type": "code",
   "execution_count": 31,
   "metadata": {},
   "outputs": [],
   "source": [
    "first_clear_players_expert=expert_tagging.groupby(['Who_cleared_first'])['Map_id'].count().sort_values(ascending=False).head(25)\n",
    "fcpex=first_clear_players_expert"
   ]
  },
  {
   "cell_type": "code",
   "execution_count": 32,
   "metadata": {},
   "outputs": [
    {
     "data": {
      "text/plain": [
       "Who_cleared_first\n",
       "nixerkg          824\n",
       "Mario1UPkoopa    636\n",
       "SapphireDrew     605\n",
       "AE4WiiU          506\n",
       "Kiavik           506\n",
       "kaikazumyu114    357\n",
       "Thabeast721      329\n",
       "kazuo4           289\n",
       "ZPappa7          276\n",
       "nekokanu         268\n",
       "spghost129       250\n",
       "Tylano64         232\n",
       "asanvido         230\n",
       "N-Mario1984      223\n",
       "Gratoffie        222\n",
       "dellbox2         220\n",
       "dev1n2016        212\n",
       "revolv23         211\n",
       "hankwheels       192\n",
       "RE5wjB           191\n",
       "Fritzef          191\n",
       "Choaslegion      186\n",
       "JulioMega        184\n",
       "flame633635      179\n",
       "MetZelRio        179\n",
       "Name: Map_id, dtype: int64"
      ]
     },
     "execution_count": 32,
     "metadata": {},
     "output_type": "execute_result"
    }
   ],
   "source": [
    "fcpex"
   ]
  },
  {
   "cell_type": "code",
   "execution_count": 33,
   "metadata": {},
   "outputs": [
    {
     "data": {
      "image/png": "[encoded data removed]",
      "text/plain": [
       "<Figure size 1440x1080 with 1 Axes>"
      ]
     },
     "metadata": {
      "needs_background": "light"
     },
     "output_type": "display_data"
    }
   ],
   "source": [
    "fcpex.plot(kind=\"barh\", figsize=(20,15));\n",
    "\n",
    "plt.rcParams['font.size']='20'\n",
    "plt.xlabel('Number of Maps the Player Cleared First')\n",
    "plt.ylabel('Player Name')\n",
    "\n",
    "plt.title('Which Player Cleared the Most Maps First for Easy Level of Difficulty?')\n",
    "\n",
    "plt.show()"
   ]
  },
  {
   "cell_type": "markdown",
   "metadata": {},
   "source": [
    "<div style=\"text-align:right\"><a href = \"#Directory\">Directory</a></div>"
   ]
  },
  {
   "cell_type": "markdown",
   "metadata": {},
   "source": [
    "<h3><b><i>\"SuperExpert\" Difficulty</i></b></h3>"
   ]
  },
  {
   "cell_type": "code",
   "execution_count": 34,
   "metadata": {},
   "outputs": [],
   "source": [
    "superexpert_diff=pd.read_sql(\"\"\"\n",
    "\n",
    "SELECT *\n",
    "FROM c_plays\n",
    "WHERE Difficulty LIKE \"superExpert\"\n",
    "\n",
    "\"\"\",conn)"
   ]
  },
  {
   "cell_type": "code",
   "execution_count": 35,
   "metadata": {},
   "outputs": [],
   "source": [
    "superexpert_tagging=pd.read_sql(\"\"\"\n",
    "SELECT *\n",
    "FROM cm_courses\n",
    "WHERE Difficulty LIKE 'superExpert'\n",
    "\"\"\",conn)"
   ]
  },
  {
   "cell_type": "markdown",
   "metadata": {},
   "source": [
    "<b><i>Maps with the greatest number of play</i><b>"
   ]
  },
  {
   "cell_type": "code",
   "execution_count": 36,
   "metadata": {},
   "outputs": [
    {
     "data": {
      "text/plain": [
       "Map_id               Map_title                       \n",
       "DE4D-0000-035D-3AE1  [2YMM] Spiny Side Down              1089\n",
       "CEB8-0000-0353-A31E  Tricky House #1: Spring Time         900\n",
       "CBB0-0000-0329-CA7C  Barb Wired                           819\n",
       "2B8D-0000-0312-9D77  Just the Tip... of the Iceberg       766\n",
       "345E-0000-034A-976E  Pokémon - VS Champion Red♪           678\n",
       "2037-0000-0358-068D  LSB: Boot On Boo Boogaloo            632\n",
       "1F6D-0000-0331-75D7  The Fall of Muncher Manor            601\n",
       "D627-0000-038E-746C  You've Learned Nothing! #Contest     545\n",
       "520E-0000-030F-5871  The Jaws of Life                     501\n",
       "417A-0000-0389-57A3  [Race] Jumpu's Fiery Fiesta          481\n",
       "4705-0000-038D-0C82  Small Mario in Blooper's Land        434\n",
       "A750-0000-032D-6933  Dizzy Koopa Cavern                   416\n",
       "9E69-0000-0358-B454  Tricky House #1: Spring Time         405\n",
       "EDC4-0000-0388-F160  Aerial Adventure #Race               391\n",
       "58BB-0000-033A-75D5  The Living Ground Is All Around      377\n",
       "CFE4-0000-035B-A651  10 Seconds to Please PACO - SMB3     362\n",
       "D810-0000-0352-9244  Trimming The Herbs                   359\n",
       "A904-0000-038F-D18F  Mansion Escape for Diddle (22s)      324\n",
       "3B26-0000-0349-7E7A  Dashie's Dry Bones Train             319\n",
       "CAA1-0000-0377-7D36  Raccoons are Friends #Race           315\n",
       "FCD3-0000-036E-C6A9  Castle Miiverse                      315\n",
       "1F14-0000-038E-D49F  Monstre aventure World amis S4-3     301\n",
       "8ED2-0000-031C-F9B3  D for Danger                         300\n",
       "880E-0000-0358-5660  Aprende, Humano                      291\n",
       "8CED-0000-034E-B718  LSB: Rururu Dungu                    291\n",
       "Name: Difficulty, dtype: int64"
      ]
     },
     "execution_count": 36,
     "metadata": {},
     "output_type": "execute_result"
    }
   ],
   "source": [
    "superexpert_diff.groupby(['Map_id','Map_title'])['Difficulty'].count().nlargest(25)"
   ]
  },
  {
   "cell_type": "markdown",
   "metadata": {},
   "source": [
    "<b><i>What tags are used most often?</i></b>"
   ]
  },
  {
   "cell_type": "code",
   "execution_count": 37,
   "metadata": {},
   "outputs": [
    {
     "data": {
      "text/plain": [
       "Level_tagging\n",
       "Theme           1711\n",
       "Speedrun        1643\n",
       "Gimmick         1091\n",
       "Dash            1001\n",
       "Traditional      794\n",
       "Music            679\n",
       "Puzzle           418\n",
       "Autoscroll       377\n",
       "Thumbnail        307\n",
       "Track            168\n",
       "Yoshi             76\n",
       "Automatic         61\n",
       "Shoot-'em-up      38\n",
       "Costume           35\n",
       "Remix             32\n",
       "Name: Level_tagging, dtype: int64"
      ]
     },
     "execution_count": 37,
     "metadata": {},
     "output_type": "execute_result"
    }
   ],
   "source": [
    "superexpert_tagging.groupby(['Level_tagging'])['Level_tagging'].count().sort_values(ascending=False)"
   ]
  },
  {
   "cell_type": "markdown",
   "metadata": {},
   "source": [
    "<b><i>Maps with the Most Stars (AKA Likes)</i></b>"
   ]
  },
  {
   "cell_type": "code",
   "execution_count": 38,
   "metadata": {},
   "outputs": [
    {
     "data": {
      "text/plain": [
       "Map_id               Map_title                         Game_style\n",
       "DE4D-0000-035D-3AE1  [2YMM] Spiny Side Down            marioBros     683646\n",
       "1F6D-0000-0331-75D7  The Fall of Muncher Manor         marioBros     382072\n",
       "345E-0000-034A-976E  Pokémon - VS Champion Red♪        marioBros     354250\n",
       "A750-0000-032D-6933  Dizzy Koopa Cavern                marioBros     203575\n",
       "2037-0000-0358-068D  LSB: Boot On Boo Boogaloo         marioBros     162425\n",
       "                                                                      ...  \n",
       "179B-0000-0341-6ABE  Will you pass the 4 levels ?      marioBros3         1\n",
       "F145-0000-034C-13EC  Oops                              marioBrosU         1\n",
       "F4C5-0000-0364-C468  jump quest request                marioWorld         0\n",
       "C490-0000-0345-F6D8  Woodstock's death pit of death    marioBros3         0\n",
       "B334-0000-0358-3378  Ne ragez pas :3 lvl pour cbgames  marioBrosU         0\n",
       "Name: Num_stars, Length: 6233, dtype: int64"
      ]
     },
     "execution_count": 38,
     "metadata": {},
     "output_type": "execute_result"
    }
   ],
   "source": [
    "superexpert_tagging.groupby(['Map_id','Map_title','Game_style'])['Num_stars'].sum().sort_values(ascending=False)"
   ]
  },
  {
   "cell_type": "markdown",
   "metadata": {},
   "source": [
    "<b><i>Most Attempted Game Style</i></b>"
   ]
  },
  {
   "cell_type": "code",
   "execution_count": 39,
   "metadata": {},
   "outputs": [
    {
     "data": {
      "text/plain": [
       "Game_style\n",
       "marioBros     236184243\n",
       "marioWorld    114021188\n",
       "marioBrosU     27852262\n",
       "marioBros3     14604514\n",
       "Name: Num_attempts, dtype: int64"
      ]
     },
     "execution_count": 39,
     "metadata": {},
     "output_type": "execute_result"
    }
   ],
   "source": [
    "superexpert_tagging.groupby(['Game_style'])['Num_attempts'].sum().sort_values(ascending=False)"
   ]
  },
  {
   "cell_type": "markdown",
   "metadata": {},
   "source": [
    "<b><i>Game Style with the Most Created Maps</i></b>"
   ]
  },
  {
   "cell_type": "code",
   "execution_count": 40,
   "metadata": {},
   "outputs": [
    {
     "data": {
      "text/plain": [
       "Game_style\n",
       "marioWorld    12089\n",
       "marioBrosU     8014\n",
       "marioBros      6301\n",
       "marioBros3     2548\n",
       "Name: Map_id, dtype: int64"
      ]
     },
     "execution_count": 40,
     "metadata": {},
     "output_type": "execute_result"
    }
   ],
   "source": [
    "superexpert_tagging.groupby(['Game_style'])['Map_id'].count().sort_values(ascending=False)"
   ]
  },
  {
   "cell_type": "markdown",
   "metadata": {},
   "source": [
    "<b><i>Which Player had the greatest number of \"first clears\"?</i></b>"
   ]
  },
  {
   "cell_type": "code",
   "execution_count": 41,
   "metadata": {},
   "outputs": [],
   "source": [
    "first_clear_players_superexpert=superexpert_tagging.groupby(['Who_cleared_first'])['Map_id'].count().sort_values(ascending=False).head(25)\n",
    "fcpsuper=first_clear_players_superexpert"
   ]
  },
  {
   "cell_type": "code",
   "execution_count": 42,
   "metadata": {},
   "outputs": [
    {
     "data": {
      "text/plain": [
       "Who_cleared_first\n",
       "Keiichied           593\n",
       "Mario1UPkoopa       454\n",
       "andrewplatt2        327\n",
       "Firzen592798        278\n",
       "foltrol             273\n",
       "Kiavik              273\n",
       "barbarianking       269\n",
       "LeLe521             248\n",
       "ShadowLiink         247\n",
       "kouseband           245\n",
       "ZPappa7             243\n",
       "AE4WiiU             236\n",
       "xBrosirisx          229\n",
       "Gratoffie           224\n",
       "Thabeast721         220\n",
       "maggara666          210\n",
       "Alazer              200\n",
       "Khazey              196\n",
       "SuperPaperPerson    194\n",
       "jiklio17            190\n",
       "YoshiKart14         187\n",
       "edmanjunior         184\n",
       "Fritzef             178\n",
       "rundom2525          177\n",
       "OzKat502            172\n",
       "Name: Map_id, dtype: int64"
      ]
     },
     "execution_count": 42,
     "metadata": {},
     "output_type": "execute_result"
    }
   ],
   "source": [
    "fcpsuper"
   ]
  },
  {
   "cell_type": "code",
   "execution_count": 43,
   "metadata": {},
   "outputs": [
    {
     "data": {
      "image/png": "[encoded data removed]",
      "text/plain": [
       "<Figure size 1440x1080 with 1 Axes>"
      ]
     },
     "metadata": {
      "needs_background": "light"
     },
     "output_type": "display_data"
    }
   ],
   "source": [
    "fcpsuper.plot(kind=\"barh\", figsize=(20,15));\n",
    "\n",
    "plt.rcParams['font.size']='20'\n",
    "plt.xlabel('Number of Maps the Player Cleared First')\n",
    "plt.ylabel('Player Name')\n",
    "\n",
    "plt.title('Which Player Cleared the Most Maps First for Easy Level of Difficulty?')\n",
    "\n",
    "plt.show()"
   ]
  },
  {
   "cell_type": "markdown",
   "metadata": {},
   "source": [
    "<div style=\"text-align:right\"><a href = \"#Directory\">Directory</a></div>"
   ]
  },
  {
   "cell_type": "markdown",
   "metadata": {},
   "source": [
    "<H2><b>Players</b></H2><a id=\"Playersda\"></a>"
   ]
  },
  {
   "cell_type": "code",
   "execution_count": 33,
   "metadata": {},
   "outputs": [],
   "source": [
    "r_courses=pd.merge(records,courses,left_on='Map_id',right_on='Map_id')\n",
    "r_c_players=pd.merge(r_courses,players,left_on='Player',right_on='Id')\n",
    "c_players=pd.merge(courses,players,left_on='Maker',right_on='Id')\n",
    "p_players=pd.merge(plays,players,left_on='Player_id',right_on='Id')"
   ]
  },
  {
   "cell_type": "code",
   "execution_count": 34,
   "metadata": {},
   "outputs": [],
   "source": [
    "r_courses.to_csv('12_29_20_r_courses.csv',index=False)\n",
    "r_c_players.to_csv('12_29_20_r_c_players.csv',index=False)\n",
    "c_players.to_csv('12_29_20_c_players.csv',index=False)\n",
    "p_players.to_csv('12_29_20_p_players.csv',index=False)"
   ]
  },
  {
   "cell_type": "markdown",
   "metadata": {},
   "source": [
    "<b><i>Number of Players By Country</i></b>"
   ]
  },
  {
   "cell_type": "code",
   "execution_count": 45,
   "metadata": {},
   "outputs": [
    {
     "data": {
      "text/plain": [
       "Flag\n",
       "US    292471\n",
       "JP    286507\n",
       "FR     50212\n",
       "DE     48182\n",
       "CA     46110\n",
       "GB     37282\n",
       "MX     28017\n",
       "ES     22070\n",
       "AU      9651\n",
       "NL      9475\n",
       "IT      6960\n",
       "CL      5311\n",
       "AT      5175\n",
       "BE      4651\n",
       "SE      4236\n",
       "IE      3514\n",
       "CH      3510\n",
       "BR      3007\n",
       "FI      2178\n",
       "PE      1876\n",
       "NO      1858\n",
       "CO      1493\n",
       "PT      1225\n",
       "GT       877\n",
       "DK       848\n",
       "CR       761\n",
       "VE       740\n",
       "PA       642\n",
       "PL       627\n",
       "RU       546\n",
       "Name: Id, dtype: int64"
      ]
     },
     "execution_count": 45,
     "metadata": {},
     "output_type": "execute_result"
    }
   ],
   "source": [
    "players.groupby(['Flag'])['Id'].count().nlargest(30)"
   ]
  },
  {
   "cell_type": "markdown",
   "metadata": {},
   "source": [
    "<b><i>Countries that had the Greatest Number of Plays?</i></b>"
   ]
  },
  {
   "cell_type": "code",
   "execution_count": 46,
   "metadata": {},
   "outputs": [
    {
     "data": {
      "text/plain": [
       "Flag\n",
       "US    1333251\n",
       "JP    1146642\n",
       "FR     255589\n",
       "DE     223450\n",
       "CA     195945\n",
       "GB     167653\n",
       "MX     152831\n",
       "ES     108347\n",
       "NL      45088\n",
       "AU      41670\n",
       "IT      33142\n",
       "CL      25794\n",
       "AT      24994\n",
       "BE      23544\n",
       "SE      19947\n",
       "CH      16108\n",
       "BR      16016\n",
       "IE      15631\n",
       "FI      11858\n",
       "PE      11463\n",
       "NO       9022\n",
       "CO       7528\n",
       "PT       6123\n",
       "GT       5696\n",
       "VE       3835\n",
       "CR       3786\n",
       "DK       3515\n",
       "PL       3316\n",
       "PA       2920\n",
       "EC       2860\n",
       "Name: Player_id, dtype: int64"
      ]
     },
     "execution_count": 46,
     "metadata": {},
     "output_type": "execute_result"
    }
   ],
   "source": [
    "p_players.groupby(['Flag'])['Player_id'].count().nlargest(30)"
   ]
  },
  {
   "cell_type": "markdown",
   "metadata": {},
   "source": [
    "<b><i>Which Country had the Greatest Number of Maps Created?</i></b>"
   ]
  },
  {
   "cell_type": "code",
   "execution_count": 47,
   "metadata": {},
   "outputs": [
    {
     "data": {
      "text/plain": [
       "Flag\n",
       "FR    40464\n",
       "DE    37278\n",
       "CA    34485\n",
       "BR     2729\n",
       "Name: Maker, dtype: int64"
      ]
     },
     "execution_count": 47,
     "metadata": {},
     "output_type": "execute_result"
    }
   ],
   "source": [
    "c_players.groupby(['Flag'])['Maker'].count().sort_values(ascending=False)"
   ]
  },
  {
   "cell_type": "markdown",
   "metadata": {},
   "source": [
    "<i>US and Japan did not have maps created? Were the maps that were created in US and Japan not popular enough or deemed inappropriate?</i>"
   ]
  },
  {
   "cell_type": "markdown",
   "metadata": {},
   "source": [
    "<b><i>Which Players had the Greatest Number of records?</i></b>"
   ]
  },
  {
   "cell_type": "code",
   "execution_count": 48,
   "metadata": {},
   "outputs": [
    {
     "ename": "NameError",
     "evalue": "name 'r_c_players' is not defined",
     "output_type": "error",
     "traceback": [
      "\u001b[1;31m---------------------------------------------------------------------------\u001b[0m",
      "\u001b[1;31mNameError\u001b[0m                                 Traceback (most recent call last)",
      "\u001b[1;32m<ipython-input-48-39298b922211>\u001b[0m in \u001b[0;36m<module>\u001b[1;34m\u001b[0m\n\u001b[1;32m----> 1\u001b[1;33m \u001b[0mr_c_players\u001b[0m\u001b[1;33m.\u001b[0m\u001b[0mgroupby\u001b[0m\u001b[1;33m(\u001b[0m\u001b[1;33m[\u001b[0m\u001b[1;34m'Player'\u001b[0m\u001b[1;33m,\u001b[0m\u001b[1;34m'Flag'\u001b[0m\u001b[1;33m]\u001b[0m\u001b[1;33m)\u001b[0m\u001b[1;33m[\u001b[0m\u001b[1;34m'Milliseconds'\u001b[0m\u001b[1;33m]\u001b[0m\u001b[1;33m.\u001b[0m\u001b[0mcount\u001b[0m\u001b[1;33m(\u001b[0m\u001b[1;33m)\u001b[0m\u001b[1;33m.\u001b[0m\u001b[0mnlargest\u001b[0m\u001b[1;33m(\u001b[0m\u001b[1;36m50\u001b[0m\u001b[1;33m)\u001b[0m\u001b[1;33m\u001b[0m\u001b[1;33m\u001b[0m\u001b[0m\n\u001b[0m",
      "\u001b[1;31mNameError\u001b[0m: name 'r_c_players' is not defined"
     ]
    }
   ],
   "source": [
    "r_c_players.groupby(['Player','Flag'])['Milliseconds'].count().nlargest(50)"
   ]
  },
  {
   "cell_type": "markdown",
   "metadata": {},
   "source": [
    "<b><i>Average Record Time by Player</i></b>"
   ]
  },
  {
   "cell_type": "code",
   "execution_count": 65,
   "metadata": {},
   "outputs": [
    {
     "data": {
      "text/plain": [
       "Player            Flag\n",
       "hiro5511          JP           16.0\n",
       "Titou.drn         FR           16.0\n",
       "KAlexis2005       BE           16.0\n",
       "cdmf2002          MX           16.0\n",
       "SReardon06        US           16.0\n",
       "                            ...    \n",
       "ohiru3-0812       JP      5999999.0\n",
       "David_SalSan      MX      5999999.0\n",
       "SimoneSuperBowse  IT      5999999.0\n",
       "AntoineEtLola     FR      5999999.0\n",
       "qwertyuhgfdsa     JP      5999999.0\n",
       "Name: Milliseconds, Length: 63436, dtype: float64"
      ]
     },
     "execution_count": 65,
     "metadata": {},
     "output_type": "execute_result"
    }
   ],
   "source": [
    "r_c_players.groupby(['Player','Flag'])['Milliseconds'].mean().round(2).sort_values(ascending=True)"
   ]
  },
  {
   "cell_type": "markdown",
   "metadata": {},
   "source": [
    "<b><i>Which Player Made the Most Maps</i></b>"
   ]
  },
  {
   "cell_type": "code",
   "execution_count": 75,
   "metadata": {},
   "outputs": [
    {
     "data": {
      "text/plain": [
       "Maker             Flag\n",
       "Xavierol69        FR      100\n",
       "Zerodius          CA      100\n",
       "JustinDianaRalf   DE       83\n",
       "drmsj1983         CA       80\n",
       "Shiraur           FR       80\n",
       "Leeshino          FR       69\n",
       "N-Player2.0       DE       69\n",
       "quentintheret     FR       68\n",
       "SeigneurSkull     FR       67\n",
       "Monkeydelphin173  DE       67\n",
       "mederic39         FR       65\n",
       "nathanda2006      FR       61\n",
       "Tylano64          FR       58\n",
       "Giant666          DE       57\n",
       "thezzie           CA       57\n",
       "Handrick          DE       56\n",
       "INFINITY0087      CA       53\n",
       "lennydis          FR       53\n",
       "wxcvbbbbbb        FR       51\n",
       "SomeMiiID         CA       51\n",
       "snaggyy           DE       51\n",
       "SeanWhat          CA       50\n",
       "boludoo           FR       50\n",
       "jeanbatman59700   FR       50\n",
       "ethian15          FR       50\n",
       "Cdeluxe           DE       50\n",
       "alexy031206       FR       49\n",
       "WillianFOX        BR       49\n",
       "NicoPrevoNin10do  FR       49\n",
       "GTRP_Easy         DE       49\n",
       "revolvmula        FR       49\n",
       "smb1hujo172       DE       49\n",
       "ZakLeTroll        CA       48\n",
       "JoshSweg69        CA       48\n",
       "7-6IsAnnoying     DE       47\n",
       "flog_ger2605      DE       47\n",
       "mb0506            DE       47\n",
       "Bibibombinha      BR       45\n",
       "Feuxdelamoule     FR       45\n",
       "Distortion_Queen  DE       44\n",
       "Bouhouhou         CA       43\n",
       "Handrick-2        DE       42\n",
       "Mars_Matrix       CA       42\n",
       "Gorfan            FR       42\n",
       "Memphis89         DE       42\n",
       "PokePassi         DE       42\n",
       "Blumenkohl13      DE       41\n",
       "guitttar13        CA       41\n",
       "zach-alex         CA       41\n",
       "guenievre86       CA       40\n",
       "Name: Map_id, dtype: int64"
      ]
     },
     "execution_count": 75,
     "metadata": {},
     "output_type": "execute_result"
    }
   ],
   "source": [
    "c_players.groupby(['Maker','Flag'])['Map_id'].count().sort_values(ascending=False).head(50)"
   ]
  },
  {
   "cell_type": "markdown",
   "metadata": {},
   "source": [
    "<b><i>Which Players played the most?</i></b>"
   ]
  },
  {
   "cell_type": "code",
   "execution_count": 74,
   "metadata": {},
   "outputs": [
    {
     "data": {
      "text/plain": [
       "Player_id         Flag\n",
       "Conducteur59220   FR      2681\n",
       "dellbox2          JP      1951\n",
       "AE4WiiU           US      1686\n",
       "revolv23          FR      1437\n",
       "demonhunter47223  US      1246\n",
       "WIIMoustique      FR      1244\n",
       "buddy1943indiana  US      1242\n",
       "Plusbellelavie5   FR      1234\n",
       "Feuxdelamoule     FR      1096\n",
       "cowboye123        FR      1068\n",
       "quentintheret     FR      1035\n",
       "Tylano64          FR      1010\n",
       "jacky1303         DE       989\n",
       "apoc_ze           US       958\n",
       "RURI333HRIRU777H  JP       944\n",
       "Alexis2012        US       919\n",
       "shinbu-10         JP       894\n",
       "shailo1996        BE       870\n",
       "Leeshino          FR       831\n",
       "666666io          JP       822\n",
       "mario-tomoya      JP       759\n",
       "indien1966        FR       750\n",
       "sioux4            FR       709\n",
       "Ultra152          DE       671\n",
       "coeur2017         FR       668\n",
       "Mario1UPkoopa     US       665\n",
       "AndrewMarenkovic  US       652\n",
       "tanaka-to         JP       650\n",
       "ritzMo            DE       648\n",
       "neisan.yo         JP       633\n",
       "tc.coeur          FR       616\n",
       "pedritopin2015    ES       608\n",
       "plutonium-power   US       601\n",
       "noramonster       US       600\n",
       "TheBossausErfurt  DE       590\n",
       "507039            JP       571\n",
       "ionazun1.25       JP       570\n",
       "Dinghy2           CA       566\n",
       "Angelika56        DE       563\n",
       "weplay85          AT       562\n",
       "fraise52          FR       561\n",
       "aminko190710      JP       558\n",
       "0608yae           JP       541\n",
       "YvetteMack        US       539\n",
       "nadine100781      FR       529\n",
       "Timridge          US       507\n",
       "AmiralGabe        FR       505\n",
       "kiyoshi516        JP       504\n",
       "ColeHamels1       CA       498\n",
       "CAPTAIN.LEVl      JP       493\n",
       "Name: Map_id, dtype: int64"
      ]
     },
     "execution_count": 74,
     "metadata": {},
     "output_type": "execute_result"
    }
   ],
   "source": [
    "p_players.groupby(['Player_id','Flag'])['Map_id'].count().sort_values(ascending=False).head(50)"
   ]
  },
  {
   "cell_type": "markdown",
   "metadata": {},
   "source": [
    "<div style=\"text-align:right\"><a href = \"#Directory\">Directory</a></div>"
   ]
  },
  {
   "cell_type": "markdown",
   "metadata": {},
   "source": [
    "<H2><b>Players Playing Profile</b></H2><a id=\"PPP\"></a>"
   ]
  },
  {
   "cell_type": "code",
   "execution_count": 135,
   "metadata": {},
   "outputs": [],
   "source": [
    "playo=pd.read_csv('../Capstone/likes_debugged.csv')\n",
    "p_p=pd.merge(players,playo,left_on='Id',right_on='Player')\n",
    "p_p.rename(columns={'Id_x':'Map_id'},inplace=True)\n",
    "p_p=p_p.drop('Id_y',axis=1)\n",
    "#p_p_courses=pd.merge(p_p,courses,left_on='Map_id',right_on='Map_id')\n",
    "#p_p_courses.rename(columns={'Catch':'Timedate_play'},inplace=True)\n",
    "#p_p_courses.to_csv('12_30_20_p_p_courses.csv',index=False)"
   ]
  },
  {
   "cell_type": "code",
   "execution_count": 134,
   "metadata": {
    "scrolled": true
   },
   "outputs": [],
   "source": [
    "ppg=p_p.groupby(['Player','Flag'])['Catch'].count().sort_values(ascending=False)"
   ]
  },
  {
   "cell_type": "code",
   "execution_count": 129,
   "metadata": {},
   "outputs": [],
   "source": [
    "ppg=pd.DataFrame(ppg)"
   ]
  },
  {
   "cell_type": "code",
   "execution_count": 131,
   "metadata": {},
   "outputs": [],
   "source": [
    "ppg.to_csv('ppg.csv')"
   ]
  },
  {
   "cell_type": "code",
   "execution_count": 139,
   "metadata": {},
   "outputs": [],
   "source": [
    "cplayersg=c_players.groupby(['Maker'])['Map_id'].count().sort_values(ascending=False)"
   ]
  },
  {
   "cell_type": "code",
   "execution_count": 121,
   "metadata": {},
   "outputs": [],
   "source": [
    "cplayersg=pd.DataFrame(cplayersg)"
   ]
  },
  {
   "cell_type": "code",
   "execution_count": 123,
   "metadata": {},
   "outputs": [],
   "source": [
    "cplayersg.to_csv('cplayersg.csv')"
   ]
  },
  {
   "cell_type": "markdown",
   "metadata": {},
   "source": [
    "<i>\"cplayersg\" and \"ppg\" is found in the Excel/Tableau file...I have used both to create SMM_Deliverables_2</i>"
   ]
  },
  {
   "cell_type": "markdown",
   "metadata": {},
   "source": [
    "<div style=\"text-align:right\"><a href = \"#Directory\">Directory</a></div>"
   ]
  },
  {
   "cell_type": "markdown",
   "metadata": {},
   "source": [
    "<p align=\"center\">\n",
    "<img src=\"img/Seven_stars.jpg\" alt=\"drawing\" width='1200'/>\n",
    "</p>"
   ]
  },
  {
   "cell_type": "markdown",
   "metadata": {},
   "source": [
    "<center><h2><b><u>Sources</u></b></h2></center>"
   ]
  },
  {
   "cell_type": "markdown",
   "metadata": {},
   "source": [
    "<H3>Data</H3>"
   ]
  },
  {
   "cell_type": "markdown",
   "metadata": {},
   "source": [
    "* [SMMnet Kaggle](https://www.kaggle.com/leomauro/smmnet?select=players.csv) - https://www.kaggle.com/leomauro/smmnet?select=players.csv\n",
    "* [List of Country Codes](https://gist.github.com/tadast/8827699#file-countries_codes_and_coordinates-csv) - https://gist.github.com/tadast/8827699#file-countries_codes_and_coordinates-csv"
   ]
  },
  {
   "cell_type": "markdown",
   "metadata": {},
   "source": [
    "<H3>Images</H3>"
   ]
  },
  {
   "cell_type": "markdown",
   "metadata": {},
   "source": [
    "* [Super Mario Maker Cover](https://www.nintendo.co.uk/Games/Wii-U/Super-Mario-Maker-892704.html)\n",
    "* [Super Mario and Friends](https://sea.ign.com/super-mario-maker-2/150524/news/super-mario-maker-2-nintendo-working-on-allowing-friends-to-play-together-online-e3-2019)\n",
    "* [Mario Luggage](https://4chanarchives.com/board/v/thread/431564)\n",
    "* [Mario Cleaning](https://twitter.com/vgartandtidbits/status/1037722631863250945?lang=da)"
   ]
  },
  {
   "cell_type": "markdown",
   "metadata": {},
   "source": [
    "<H3>Additional</H3>"
   ]
  },
  {
   "cell_type": "markdown",
   "metadata": {},
   "source": [
    "* [Super Mario Maker Soundtrack](#https://downloads.khinsider.com/game-soundtracks/album/super-mario-maker-soundtrack)\n",
    "* [March 2021 Will Be A Tough Time for Super Mario Fans](#https://gamerant.com/super-mario-march-2021/)\n",
    "* [The Top 5 Video Game Conferences in North America](#https://www.proexhibits.com/blog/video-game-events/)\n",
    "* [Gamestop Reports Third Quarter Results](#https://www.globenewswire.com/news-release/2020/12/08/2141775/0/en/GameStop-Reports-Third-Quarter-Results-A-Positive-Start-to-Fourth-Quarter-with-November-Comparable-Store-Sales-Increasing-16-5-And-Sustained-Progress-Toward-Long-Term-Strategic-Obj.html)\n",
    "* [Super Mario Maker Wiki](#https://www.mariowiki.com/Super_Mario_Maker)"
   ]
  },
  {
   "cell_type": "markdown",
   "metadata": {},
   "source": [
    "<div style=\"text-align:right\"><a href = \"#Directory\">Directory</a></div>"
   ]
  },
  {
   "cell_type": "markdown",
   "metadata": {},
   "source": [
    "<p align=\"center\">\n",
    "<img src=\"img/Enemies.jpg\" alt=\"drawing\" width='1200'/>\n",
    "</p>"
   ]
  },
  {
   "cell_type": "markdown",
   "metadata": {},
   "source": [
    "<H2><b><u>ERD</u></b></H2><a id = 'ERD'></a>"
   ]
  },
  {
   "cell_type": "markdown",
   "metadata": {},
   "source": [
    "<p align=\"center\">\n",
    "<img src=\"img/ERD.png\" alt=\"drawing\" width='1600'/>\n",
    "</p>"
   ]
  },
  {
   "cell_type": "markdown",
   "metadata": {},
   "source": [
    "<div style=\"text-align:right\"><a href = \"#Directory\">Directory</a></div>"
   ]
  },
  {
   "cell_type": "markdown",
   "metadata": {},
   "source": [
    "<h2><b><u>Project Plan</u></b></h2><a id='Project_Plan'></a>"
   ]
  },
  {
   "cell_type": "markdown",
   "metadata": {},
   "source": [
    "<B>Overarching Question</B><BR><BR>\n",
    "    &ensp;&ensp;What made Super Mario Maker so popular?<BR><BR>\n",
    "    \n",
    "<B>Questions that will be answered in my analysis:</B><BR><BR>\n",
    "    * What was the most popular game style?<BR>\n",
    "&ensp;&ensp;&ensp;&ensp;<i>(most attempted map by game style, maps with the most number of likes, are there specific tags that are most used?)</i><BR>\n",
    "    * Player characteristics<BR>\n",
    "&ensp;&ensp;&ensp;&ensp;<i>(Number of players per country, number of plays by country, number of maps created by country, which players had the greatest number of records, which players made the most maps, which players played the most)<BR><BR>\n",
    "<B>Source</B><BR><BR>\n",
    "&ensp;The dataset: https://www.kaggle.com/leomauro/smmnet?select=players.csv – This dataset was extracted from supermariomakerbookmark.nintendo.net under the Creative Commons BY license. <BR><BR>\n",
    "<B>Overall Process for Investigation and Analysis In Order To Make A Recommendation</B><BR><BR>\n",
    "    * Please see <i>questions that will be answered in my analysis</i> for some of the KPI’s that I will be utilizing to answer the overarching question<BR>\n",
    "    * I am reviewing nulls and will make decisions about what to do with them once I am further in investigation (if there are not too many, I may remove these rows of data if they do not provide relevant information).<BR><BR>\n",
    "<B>Limitations and Assumptions</B><BR><BR>\n",
    "    * An assumption that I am making is that the number of plays is correlated to the popularity of level.<BR>\n"
   ]
  },
  {
   "cell_type": "markdown",
   "metadata": {},
   "source": [
    "<div style=\"text-align:right\"><a href = \"#Directory\">Directory</a></div>"
   ]
  },
  {
   "cell_type": "code",
   "execution_count": null,
   "metadata": {},
   "outputs": [],
   "source": []
  },
  {
   "cell_type": "code",
   "execution_count": null,
   "metadata": {},
   "outputs": [],
   "source": []
  }
 ],
 "metadata": {
  "kernelspec": {
   "display_name": "Python 3",
   "language": "python",
   "name": "python3"
  },
  "language_info": {
   "codemirror_mode": {
    "name": "ipython",
    "version": 3
   },
   "file_extension": ".py",
   "mimetype": "text/x-python",
   "name": "python",
   "nbconvert_exporter": "python",
   "pygments_lexer": "ipython3",
   "version": "3.8.5"
  }
 },
 "nbformat": 4,
 "nbformat_minor": 4
}
